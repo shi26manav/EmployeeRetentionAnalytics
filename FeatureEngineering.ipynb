{
 "cells": [
  {
   "cell_type": "markdown",
   "id": "cfff8689",
   "metadata": {},
   "source": [
    "## <center><font color=#154360>FEATURE ENGINEERING STEPS\n",
    " - Continuation to Data Cleaning"
   ]
  },
  {
   "cell_type": "markdown",
   "id": "1b01c1cd",
   "metadata": {},
   "source": [
    "---\n",
    "# **Table of Contents**\n",
    "---\n",
    "\n",
    "**1.** [**Installing & Importing Libraries**](#Section1)<br>\n",
    "**2.** [**Loading Data**](#Section2)<br>\n",
    "**3.** [**Data Acquisition & Description**](./DataCleaning.ipynb)<br>\n",
    "**4.** [**Data Pre-Processing**](./DataCleaning.ipynb)<br>\n",
    "**5.** [**Find Missing Values Mean to know Percentage**](#Section5)<br>\n",
    "\n",
    "**6.** [**Feature Engineering Steps**](#Section6)<br>\n",
    "   - **6.1** [**Handling Missing Values -Univariate Approach**](#Section61)<br>\n",
    "   - **6.2** [**Handling NaN Values for Categorical variable**](#Section62)\n",
    "   - **6.3** [**Divide Data into X and Y***](#Section63)\n",
    "   - **6.4** [**Split Dataset into Train and Validation**](#Section64)\n",
    "   - **6.5** [**Continuous and Categorical Features split**](#Section65)\n",
    "   - **6.6** [**Encoding**](#Section66)\n",
    "   - **6.7** [**Feature Scaling***](#Section67)\n",
    "   - **6.8** [**Concatenate train cat and train cont.**](#Section68)\n",
    "   - **6.9** [**Concatenate categorical validation and continuous validation.**](#Section69)\n",
    "   - **6.10** [**Filling Missing Values -Multivariate Approach-KNN**](#Section610)\n",
    "   - **6.11** [**Prepare Dataset for EDA**](#Section611)\n",
    "   - **6.12** [**Saving the Train and Validation Datasets**](#Section612)\n",
    "   - **6.13** [**Saving Train(X,y) , Validation((X,y) Datasets for Model Building activity**](#Section613)\n",
    "\n",
    "**7.** [**Test Data Pre-Processing and Post-Processing**](#Section7)<br>\n",
    "   - **7.1** [**Load the Unseen Test Data**](#Section71)<br>\n",
    "   - **7.2** [**Preprocessing Test Data**](#Section72)<br>\n",
    "   - **7.3** [**Saving Test Data**](#Section73)<br>\n",
    "   \n",
    "**8.** [**Exploratory Data Analysis**](./EDA.ipynb)<br>\n",
    "**9.** [**Summarization**](./EDA.ipynb)<br>\n",
    "\n",
    "**10.**[**Model Development and Evaluation**](./Model_Building.ipynb)<br>"
   ]
  },
  {
   "cell_type": "markdown",
   "id": "643aa55c",
   "metadata": {},
   "source": [
    "------------\n",
    "<a name = Section1></a>\n",
    "## **1. Importing Libraries**\n",
    "-----------"
   ]
  },
  {
   "cell_type": "code",
   "execution_count": 160,
   "id": "3449c4d2",
   "metadata": {},
   "outputs": [],
   "source": [
    "import pandas as pd\n",
    "import numpy as np\n",
    "import matplotlib.pyplot as plt\n",
    "import seaborn as sns\n",
    "\n",
    "from sklearn.model_selection import train_test_split\n",
    "from sklearn.preprocessing import OneHotEncoder\n",
    "from sklearn.preprocessing import MinMaxScaler\n",
    "from sklearn.impute import KNNImputer\n",
    "\n"
   ]
  },
  {
   "cell_type": "markdown",
   "id": "20bb8384",
   "metadata": {},
   "source": [
    "------------\n",
    "<a name = Section1></a>\n",
    "## **2. Loading Data**\n",
    "------------"
   ]
  },
  {
   "cell_type": "code",
   "execution_count": 161,
   "id": "e03e068f",
   "metadata": {},
   "outputs": [],
   "source": [
    "emp_merged = pd.read_csv(\"emp_merged.csv\")"
   ]
  },
  {
   "cell_type": "code",
   "execution_count": 162,
   "id": "b6650521",
   "metadata": {},
   "outputs": [
    {
     "data": {
      "text/plain": [
       "(14116, 14)"
      ]
     },
     "execution_count": 162,
     "metadata": {},
     "output_type": "execute_result"
    }
   ],
   "source": [
    "emp_merged.shape"
   ]
  },
  {
   "cell_type": "markdown",
   "id": "a985a5f5",
   "metadata": {},
   "source": [
    "  ---------------------------------\n",
    "  <a name = Section5></a>\n",
    "    \n",
    "## **5. Find Missing Values Mean to know Percentage**"
   ]
  },
  {
   "cell_type": "code",
   "execution_count": 163,
   "id": "30316a4c",
   "metadata": {},
   "outputs": [
    {
     "data": {
      "text/plain": [
       "employee_id          0.000000\n",
       "age                  0.000000\n",
       "gender               0.000000\n",
       "marital_status       0.000000\n",
       "avg_monthly_hrs      0.000000\n",
       "department           0.050014\n",
       "filed_complaint      0.855412\n",
       "last_evaluation      0.105341\n",
       "n_projects           0.000000\n",
       "recently_promoted    0.978960\n",
       "salary               0.000000\n",
       "satisfaction         0.010626\n",
       "status               0.000000\n",
       "tenure               0.010626\n",
       "dtype: float64"
      ]
     },
     "execution_count": 163,
     "metadata": {},
     "output_type": "execute_result"
    }
   ],
   "source": [
    "emp_merged.isnull().mean()"
   ]
  },
  {
   "cell_type": "markdown",
   "id": "1150e1e2",
   "metadata": {},
   "source": [
    "---\n",
    "**<font color=#196F3D>Observations**\n",
    "\n",
    "- <i>**tenure**  and **satisfaction** columns have around **1% missing values** - **- KNN Imputation**\n",
    "- <i>**department column** has approx. **5% missing values**                    - **- Arbitrary Cat. Value Imputation**\n",
    "- <i>**last_evaluation column** has **10% missing values**                      - **- KNN Imputation**\n",
    "- <i>**filed_complaint column** has approx. **85% missing values**              - **- Replace nan with 0.0** \n",
    "- <i>**recently_promoted column** has approx. **97% missing values**            - **- Replace nan with 0.0**"
   ]
  },
  {
   "cell_type": "markdown",
   "id": "f99daa1c",
   "metadata": {},
   "source": [
    "### **Visualize Target Feature Distribution**"
   ]
  },
  {
   "cell_type": "code",
   "execution_count": 164,
   "id": "68835915",
   "metadata": {},
   "outputs": [
    {
     "data": {
      "text/plain": [
       "<AxesSubplot:xlabel='status', ylabel='count'>"
      ]
     },
     "execution_count": 164,
     "metadata": {},
     "output_type": "execute_result"
    },
    {
     "data": {
      "image/png": "[encoded data removed]",
      "text/plain": [
       "<Figure size 640x480 with 1 Axes>"
      ]
     },
     "metadata": {},
     "output_type": "display_data"
    }
   ],
   "source": [
    "sns.countplot(data=emp_merged, x='status')"
   ]
  },
  {
   "cell_type": "markdown",
   "id": "b3438b67",
   "metadata": {},
   "source": [
    "---\n",
    "**<font color=#196F3D>Observations**\n",
    "\n",
    "- **Imbalanced Class-Left**\n",
    "- Will Treat later, if model could not fit well"
   ]
  },
  {
   "cell_type": "markdown",
   "id": "a0a18d78",
   "metadata": {},
   "source": [
    "### **Heat Map to find Correlation**"
   ]
  },
  {
   "cell_type": "code",
   "execution_count": 165,
   "id": "a81cd35f",
   "metadata": {},
   "outputs": [
    {
     "data": {
      "text/plain": [
       "<AxesSubplot:>"
      ]
     },
     "execution_count": 165,
     "metadata": {},
     "output_type": "execute_result"
    },
    {
     "data": {
      "image/png": "[encoded data removed]",
      "text/plain": [
       "<Figure size 1800x700 with 2 Axes>"
      ]
     },
     "metadata": {},
     "output_type": "display_data"
    }
   ],
   "source": [
    "paper = plt.figure(figsize = [18,7])\n",
    "sns.heatmap(emp_merged.corr(), annot = True)"
   ]
  },
  {
   "cell_type": "markdown",
   "id": "02e1224e",
   "metadata": {},
   "source": [
    "---\n",
    "**<font color=#196F3D>Observations**\n",
    "\n",
    "- **Age has correlation with n_projects**\n",
    "- **Remove this feature to handle Multicollinearity**"
   ]
  },
  {
   "cell_type": "markdown",
   "id": "9bb97b17",
   "metadata": {},
   "source": [
    "--------------\n",
    "### <center> Creating a Copy of Loaded Dataset "
   ]
  },
  {
   "cell_type": "code",
   "execution_count": 166,
   "id": "fea93f8e",
   "metadata": {},
   "outputs": [],
   "source": [
    "emp2_copy=emp_merged.copy(deep=True)"
   ]
  },
  {
   "cell_type": "code",
   "execution_count": 167,
   "id": "b07ed4f9",
   "metadata": {},
   "outputs": [
    {
     "data": {
      "text/plain": [
       "(14116, 14)"
      ]
     },
     "execution_count": 167,
     "metadata": {},
     "output_type": "execute_result"
    }
   ],
   "source": [
    "emp2_copy.shape"
   ]
  },
  {
   "cell_type": "markdown",
   "id": "89b8909c",
   "metadata": {},
   "source": [
    "- ### Excluding Age, Gender , marital_status from the dataset"
   ]
  },
  {
   "cell_type": "code",
   "execution_count": 168,
   "id": "b7075143",
   "metadata": {},
   "outputs": [],
   "source": [
    "emp_copy2=emp2_copy.loc[:,['employee_id','avg_monthly_hrs','department','filed_complaint','last_evaluation','n_projects','recently_promoted','salary','satisfaction','tenure','status']]"
   ]
  },
  {
   "cell_type": "code",
   "execution_count": 169,
   "id": "fbbef056",
   "metadata": {},
   "outputs": [
    {
     "data": {
      "text/plain": [
       "employee_id          0.000000\n",
       "avg_monthly_hrs      0.000000\n",
       "department           0.050014\n",
       "filed_complaint      0.855412\n",
       "last_evaluation      0.105341\n",
       "n_projects           0.000000\n",
       "recently_promoted    0.978960\n",
       "salary               0.000000\n",
       "satisfaction         0.010626\n",
       "tenure               0.010626\n",
       "status               0.000000\n",
       "dtype: float64"
      ]
     },
     "execution_count": 169,
     "metadata": {},
     "output_type": "execute_result"
    }
   ],
   "source": [
    "emp_copy2.isnull().mean()"
   ]
  },
  {
   "cell_type": "markdown",
   "id": "304cba9e",
   "metadata": {},
   "source": [
    " <a name = Section6></a>\n",
    "# **6.Feature Engineering Steps**"
   ]
  },
  {
   "cell_type": "markdown",
   "id": "1801ee06",
   "metadata": {},
   "source": [
    " <a name = Section61></a>\n",
    "### **6.1 Handling Missing Values -Univariate Approach**\n",
    "- Filling Missing Values for **department** \n",
    "- Univariate Arbitrary Approach for Categorical variable\n",
    "- Replacing NaN with string 'missing'. "
   ]
  },
  {
   "cell_type": "code",
   "execution_count": 170,
   "id": "b71ea795",
   "metadata": {},
   "outputs": [],
   "source": [
    "emp_copy2['department'].replace(np.nan,'missing', inplace=True)"
   ]
  },
  {
   "cell_type": "markdown",
   "id": "5b0dc3f8",
   "metadata": {},
   "source": [
    "<a name = Section62></a>\n",
    "### **6.2 Handling NaN Values**\n",
    "- Filling Missing Values for **filed_complaint and recently_prmoted**\n",
    "- Replacing NaN with 0"
   ]
  },
  {
   "cell_type": "code",
   "execution_count": 172,
   "id": "6bb351fb",
   "metadata": {},
   "outputs": [],
   "source": [
    "emp_copy2['filed_complaint'].replace(np.nan,0, inplace=True)\n"
   ]
  },
  {
   "cell_type": "code",
   "execution_count": 173,
   "id": "bc2e424c",
   "metadata": {},
   "outputs": [],
   "source": [
    "emp_copy2['recently_promoted'].replace(np.nan,0, inplace=True)"
   ]
  },
  {
   "cell_type": "code",
   "execution_count": 174,
   "id": "1fc06f46",
   "metadata": {},
   "outputs": [
    {
     "data": {
      "text/plain": [
       "Index(['employee_id', 'avg_monthly_hrs', 'department', 'filed_complaint',\n",
       "       'last_evaluation', 'n_projects', 'recently_promoted', 'salary',\n",
       "       'satisfaction', 'tenure', 'status'],\n",
       "      dtype='object')"
      ]
     },
     "execution_count": 174,
     "metadata": {},
     "output_type": "execute_result"
    }
   ],
   "source": [
    "emp_copy2.columns"
   ]
  },
  {
   "cell_type": "code",
   "execution_count": 175,
   "id": "a4b947f8",
   "metadata": {},
   "outputs": [
    {
     "data": {
      "text/plain": [
       "0"
      ]
     },
     "execution_count": 175,
     "metadata": {},
     "output_type": "execute_result"
    }
   ],
   "source": [
    "# No Null Values for Department\n",
    "emp_copy2.department.isnull().sum()"
   ]
  },
  {
   "cell_type": "markdown",
   "id": "333f353c",
   "metadata": {},
   "source": [
    "<a name = Section63></a>\n",
    "### **6.3 Divide Data into X and Y**"
   ]
  },
  {
   "cell_type": "code",
   "execution_count": 176,
   "id": "1b4e8419",
   "metadata": {},
   "outputs": [],
   "source": [
    "X = emp_copy2.drop('status',axis = 1)\n",
    "Y = emp_copy2['status'].copy()"
   ]
  },
  {
   "cell_type": "code",
   "execution_count": 177,
   "id": "5f5742e1",
   "metadata": {},
   "outputs": [],
   "source": [
    "# X.head()"
   ]
  },
  {
   "cell_type": "code",
   "execution_count": 178,
   "id": "f3b5548a",
   "metadata": {},
   "outputs": [],
   "source": [
    "# Y.head()"
   ]
  },
  {
   "cell_type": "code",
   "execution_count": 179,
   "id": "9c6f9fde",
   "metadata": {},
   "outputs": [],
   "source": [
    "# X.columns"
   ]
  },
  {
   "cell_type": "markdown",
   "id": "ba4d7245",
   "metadata": {},
   "source": [
    "\n",
    "<a name = Section64></a>\n",
    "### **6.4 Split Dataset into Train and Validation**\n"
   ]
  },
  {
   "cell_type": "code",
   "execution_count": 181,
   "id": "dcbce361",
   "metadata": {},
   "outputs": [],
   "source": [
    "\n",
    "X_train, X_valid, y_train, y_valid = train_test_split(X, Y, test_size=0.20, random_state=50, stratify=Y)"
   ]
  },
  {
   "cell_type": "markdown",
   "id": "9802f621",
   "metadata": {},
   "source": [
    "\n",
    "<a name = Section65></a>\n",
    "### **6.5. Continuous and Categorical Features split**"
   ]
  },
  {
   "cell_type": "code",
   "execution_count": 182,
   "id": "fbe4ea5d",
   "metadata": {},
   "outputs": [],
   "source": [
    "X_train_cat = X_train.select_dtypes(include=['object'])\n",
    "X_train_cont = X_train.select_dtypes(exclude=['object'])"
   ]
  },
  {
   "cell_type": "code",
   "execution_count": 183,
   "id": "67160d90",
   "metadata": {},
   "outputs": [],
   "source": [
    "X_valid_cat = X_valid.select_dtypes(include=['object'])\n",
    "X_valid_cont = X_valid.select_dtypes(exclude=['object'])"
   ]
  },
  {
   "cell_type": "code",
   "execution_count": 184,
   "id": "34f219ed",
   "metadata": {},
   "outputs": [
    {
     "data": {
      "text/plain": [
       "department    0\n",
       "salary        0\n",
       "dtype: int64"
      ]
     },
     "execution_count": 184,
     "metadata": {},
     "output_type": "execute_result"
    }
   ],
   "source": [
    "X_valid_cat.isnull().sum()"
   ]
  },
  {
   "cell_type": "markdown",
   "id": "463c2348",
   "metadata": {},
   "source": [
    "\n",
    "<a name = Section66></a>\n",
    "### **6.6. Encoding**\n"
   ]
  },
  {
   "cell_type": "markdown",
   "id": "cb947819",
   "metadata": {},
   "source": [
    "- **Function Definition to fit train data for One Hot Encoding**"
   ]
  },
  {
   "cell_type": "code",
   "execution_count": 185,
   "id": "c837127c",
   "metadata": {},
   "outputs": [],
   "source": [
    "\n",
    "def ohe_fit(df):\n",
    "    enc = OneHotEncoder(drop='first', sparse = False)\n",
    "    enc.fit(df)\n",
    "    print(enc.categories_)\n",
    "    return enc\n"
   ]
  },
  {
   "cell_type": "markdown",
   "id": "51db89ad",
   "metadata": {},
   "source": [
    "- **Fitting Train Data**"
   ]
  },
  {
   "cell_type": "code",
   "execution_count": 186,
   "id": "0cc100eb",
   "metadata": {},
   "outputs": [
    {
     "name": "stdout",
     "output_type": "stream",
     "text": [
      "[array(['D00-AD', 'D00-ENG', 'D00-FN', 'D00-IT', 'D00-MN', 'D00-MT',\n",
      "       'D00-PD', 'D00-PR', 'D00-SP', 'D00-SS', 'D00-TP', 'missing'],\n",
      "      dtype=object), array(['high', 'low', 'medium'], dtype=object)]\n"
     ]
    }
   ],
   "source": [
    "\n",
    "enc_X=ohe_fit(X_train_cat)\n"
   ]
  },
  {
   "cell_type": "markdown",
   "id": "8ac4d616",
   "metadata": {},
   "source": [
    "- **Replacing Employed with 0 and Left with 1 in Target Feature(Y_train and Y_valid)**"
   ]
  },
  {
   "cell_type": "code",
   "execution_count": 187,
   "id": "82a7e7ec",
   "metadata": {},
   "outputs": [
    {
     "data": {
      "text/plain": [
       "11415    Employed\n",
       "3501     Employed\n",
       "10337    Employed\n",
       "231          Left\n",
       "13226    Employed\n",
       "Name: status, dtype: object"
      ]
     },
     "execution_count": 187,
     "metadata": {},
     "output_type": "execute_result"
    }
   ],
   "source": [
    "y_train.head()"
   ]
  },
  {
   "cell_type": "code",
   "execution_count": 188,
   "id": "978a8e5a",
   "metadata": {},
   "outputs": [],
   "source": [
    "\n",
    "y_train.replace('Employed',0 ,inplace=True)\n",
    "y_train.replace('Left',1 ,inplace=True)"
   ]
  },
  {
   "cell_type": "code",
   "execution_count": 189,
   "id": "3d700c5c",
   "metadata": {},
   "outputs": [],
   "source": [
    "y_valid.replace('Employed',0 ,inplace=True)\n",
    "y_valid.replace('Left',1 ,inplace=True)"
   ]
  },
  {
   "cell_type": "code",
   "execution_count": 190,
   "id": "ddcacd00",
   "metadata": {},
   "outputs": [
    {
     "data": {
      "text/plain": [
       "11415    0\n",
       "3501     0\n",
       "10337    0\n",
       "231      1\n",
       "13226    0\n",
       "        ..\n",
       "11825    0\n",
       "9420     0\n",
       "10448    0\n",
       "12563    0\n",
       "8323     0\n",
       "Name: status, Length: 11292, dtype: int64"
      ]
     },
     "execution_count": 190,
     "metadata": {},
     "output_type": "execute_result"
    }
   ],
   "source": [
    "y_train"
   ]
  },
  {
   "cell_type": "markdown",
   "id": "b210fb3b",
   "metadata": {},
   "source": [
    "- **Function Defintion to transform train and test for One Hot Encoding**"
   ]
  },
  {
   "cell_type": "code",
   "execution_count": 191,
   "id": "9ca032cc",
   "metadata": {},
   "outputs": [],
   "source": [
    "def get_ohe(df, enc):\n",
    "    temp_df = pd.DataFrame(enc.transform(df), columns = enc.get_feature_names_out(X_train_cat.columns), index = df.index)\n",
    "#     temp_df.drop(columns=df.columns, axis=1, inplace=True)\n",
    "#     df = pd.concat([df.reset_index(drop=True), temp_df], axis=1)\n",
    "    return temp_df"
   ]
  },
  {
   "cell_type": "markdown",
   "id": "820f2745",
   "metadata": {},
   "source": [
    "- **Calling Funcion on train and test to transform**"
   ]
  },
  {
   "cell_type": "code",
   "execution_count": 192,
   "id": "13cf64ad",
   "metadata": {},
   "outputs": [],
   "source": [
    "X_train_ohe = get_ohe(X_train_cat, enc_X)\n",
    "X_valid_ohe = get_ohe(X_valid_cat, enc_X)"
   ]
  },
  {
   "cell_type": "markdown",
   "id": "6382bf0d",
   "metadata": {},
   "source": [
    "-------------------------------------\n",
    "### <center>KNN Imptuer is a distance-based imputation method and it requires us to normalize our data. "
   ]
  },
  {
   "cell_type": "markdown",
   "id": "91cef374",
   "metadata": {},
   "source": [
    "<a name = Section67></a>\n",
    "### **6.7 Feature Scaling**"
   ]
  },
  {
   "cell_type": "markdown",
   "id": "19f69157",
   "metadata": {},
   "source": [
    "- **Creating Scaler Object**"
   ]
  },
  {
   "cell_type": "code",
   "execution_count": 193,
   "id": "e3e399de",
   "metadata": {},
   "outputs": [],
   "source": [
    "scaler = MinMaxScaler()"
   ]
  },
  {
   "cell_type": "markdown",
   "id": "ae53f6f3",
   "metadata": {},
   "source": [
    "- **Fitting Train Data to Scale**"
   ]
  },
  {
   "cell_type": "code",
   "execution_count": 194,
   "id": "56cc3f8d",
   "metadata": {},
   "outputs": [
    {
     "data": {
      "text/plain": [
       "MinMaxScaler()"
      ]
     },
     "execution_count": 194,
     "metadata": {},
     "output_type": "execute_result"
    }
   ],
   "source": [
    "scaler.fit(X_train_cont)"
   ]
  },
  {
   "cell_type": "markdown",
   "id": "fa2dafc4",
   "metadata": {},
   "source": [
    "- **Transforming Train and Test Data to Scale**"
   ]
  },
  {
   "cell_type": "code",
   "execution_count": 195,
   "id": "da6ebfb8",
   "metadata": {},
   "outputs": [],
   "source": [
    "X_train_s = pd.DataFrame(scaler.transform(X_train_cont), columns = X_train_cont.columns, index = X_train_cont.index)\n",
    "X_valid_s = pd.DataFrame(scaler.transform(X_valid_cont), columns = X_train_cont.columns, index = X_valid_cont.index)"
   ]
  },
  {
   "cell_type": "code",
   "execution_count": 196,
   "id": "80c12994",
   "metadata": {},
   "outputs": [],
   "source": [
    "# X_valid_s.head()"
   ]
  },
  {
   "cell_type": "markdown",
   "id": "4bbe7fa9",
   "metadata": {},
   "source": [
    "  <a name = Section68></a>\n",
    "### 6.8 Concatenate train cat and train cont.\n"
   ]
  },
  {
   "cell_type": "code",
   "execution_count": 197,
   "id": "fd9f09b5",
   "metadata": {},
   "outputs": [],
   "source": [
    "X_train_comb = pd.concat([X_train_ohe,X_train_s], axis=1)\n"
   ]
  },
  {
   "cell_type": "code",
   "execution_count": 198,
   "id": "d5581a41",
   "metadata": {},
   "outputs": [
    {
     "data": {
      "text/plain": [
       "department_D00-ENG       0\n",
       "department_D00-FN        0\n",
       "department_D00-IT        0\n",
       "department_D00-MN        0\n",
       "department_D00-MT        0\n",
       "department_D00-PD        0\n",
       "department_D00-PR        0\n",
       "department_D00-SP        0\n",
       "department_D00-SS        0\n",
       "department_D00-TP        0\n",
       "department_missing       0\n",
       "salary_low               0\n",
       "salary_medium            0\n",
       "employee_id              0\n",
       "avg_monthly_hrs          0\n",
       "filed_complaint          0\n",
       "last_evaluation       1188\n",
       "n_projects               0\n",
       "recently_promoted        0\n",
       "satisfaction           126\n",
       "tenure                 126\n",
       "dtype: int64"
      ]
     },
     "execution_count": 198,
     "metadata": {},
     "output_type": "execute_result"
    }
   ],
   "source": [
    "X_train_comb.isnull().sum()"
   ]
  },
  {
   "cell_type": "code",
   "execution_count": 199,
   "id": "44acb080",
   "metadata": {},
   "outputs": [],
   "source": [
    "# X_train_comb.head()"
   ]
  },
  {
   "cell_type": "markdown",
   "id": "56b2b276",
   "metadata": {},
   "source": [
    "\n",
    "  <a name = Section69></a>\n",
    "### 6.9 Concatenate categorical validation  and continuous test."
   ]
  },
  {
   "cell_type": "code",
   "execution_count": 200,
   "id": "e272ace7",
   "metadata": {},
   "outputs": [],
   "source": [
    "X_valid_comb = pd.concat([X_valid_ohe,X_valid_s], axis=1)\n"
   ]
  },
  {
   "cell_type": "code",
   "execution_count": 201,
   "id": "b64801ff",
   "metadata": {},
   "outputs": [],
   "source": [
    "# X_valid_comb.head()"
   ]
  },
  {
   "cell_type": "markdown",
   "id": "b05aefae",
   "metadata": {},
   "source": [
    "\n",
    "  <a name = Section610></a>\n",
    "### 6.10 Filling Missing Values\n",
    "\n",
    "- **Using KNN Imputer for Filling last_evaluation, satisfaction and tenure**"
   ]
  },
  {
   "cell_type": "markdown",
   "id": "a798d30a",
   "metadata": {},
   "source": [
    "- **Creating Imputer Object**\n",
    "- **Fitting Train Data to Imputer**"
   ]
  },
  {
   "cell_type": "code",
   "execution_count": 202,
   "id": "4bf96c4b",
   "metadata": {},
   "outputs": [
    {
     "data": {
      "text/plain": [
       "KNNImputer()"
      ]
     },
     "execution_count": 202,
     "metadata": {},
     "output_type": "execute_result"
    }
   ],
   "source": [
    "\n",
    "imputer = KNNImputer(n_neighbors=5)\n",
    "imputer.fit(X_train_comb)\n"
   ]
  },
  {
   "cell_type": "markdown",
   "id": "f77061a4",
   "metadata": {},
   "source": [
    "- **Tranforming Train and Validation Data to Imputer**"
   ]
  },
  {
   "cell_type": "code",
   "execution_count": 203,
   "id": "eae9c105",
   "metadata": {},
   "outputs": [],
   "source": [
    "X_train_df = pd.DataFrame(imputer.transform(X_train_comb),columns = X_train_comb.columns, index=X_train_comb.index)"
   ]
  },
  {
   "cell_type": "code",
   "execution_count": 204,
   "id": "53c556f1",
   "metadata": {},
   "outputs": [],
   "source": [
    "X_valid_df = pd.DataFrame(imputer.transform(X_valid_comb),columns = X_train_comb.columns, index=X_valid_comb.index)"
   ]
  },
  {
   "cell_type": "code",
   "execution_count": 205,
   "id": "13dd57ed",
   "metadata": {},
   "outputs": [
    {
     "data": {
      "text/plain": [
       "Index(['department_D00-ENG', 'department_D00-FN', 'department_D00-IT',\n",
       "       'department_D00-MN', 'department_D00-MT', 'department_D00-PD',\n",
       "       'department_D00-PR', 'department_D00-SP', 'department_D00-SS',\n",
       "       'department_D00-TP', 'department_missing', 'salary_low',\n",
       "       'salary_medium', 'employee_id', 'avg_monthly_hrs', 'filed_complaint',\n",
       "       'last_evaluation', 'n_projects', 'recently_promoted', 'satisfaction',\n",
       "       'tenure'],\n",
       "      dtype='object')"
      ]
     },
     "execution_count": 205,
     "metadata": {},
     "output_type": "execute_result"
    }
   ],
   "source": [
    "X_train_df.columns"
   ]
  },
  {
   "cell_type": "markdown",
   "id": "4dda1914",
   "metadata": {},
   "source": [
    "  <a name = Section611></a>\n",
    "### 6.11 Prepare Dataset for EDA\n",
    "\n",
    "- 1.age, gender, marital_status were previously dropped from the copiedDataframe. Retrieve from the original dataset\n",
    "- 2.department is a categorical feature. Obtain before Encoding with no missing values\n",
    "- 3.continuous features with all values filled in- use inverse_tranform function to revert continous features to original values\n",
    "- Combine 1 ,2 and 3 \n",
    "\n",
    "- Save New Datframe  CSV files\n"
   ]
  },
  {
   "cell_type": "code",
   "execution_count": 206,
   "id": "4edac895",
   "metadata": {},
   "outputs": [],
   "source": [
    "train_conti=pd.DataFrame()\n",
    "train_conti=X_train_df.loc[:,['employee_id', 'avg_monthly_hrs','filed_complaint', 'last_evaluation','n_projects','recently_promoted','satisfaction', 'tenure']]"
   ]
  },
  {
   "cell_type": "code",
   "execution_count": 207,
   "id": "9a2a357c",
   "metadata": {},
   "outputs": [],
   "source": [
    "# train_conti.isnull().sum()"
   ]
  },
  {
   "cell_type": "markdown",
   "id": "7d7867db",
   "metadata": {},
   "source": [
    "- **Inverse Transform continuous features to get original state**"
   ]
  },
  {
   "cell_type": "code",
   "execution_count": 208,
   "id": "ce136128",
   "metadata": {},
   "outputs": [],
   "source": [
    "train_conti_inv=pd.DataFrame(scaler.inverse_transform(train_conti), columns = X_train_cont.columns, index = train_conti.index)"
   ]
  },
  {
   "cell_type": "code",
   "execution_count": 209,
   "id": "f717cdb8",
   "metadata": {},
   "outputs": [],
   "source": [
    "# Retieving index of Unscaled continous features (Treated for Missing Values)\n",
    "train_conti_inv.index\n",
    "# Categoricalfeatures and Age feature(Before treating for encoding)\n",
    "df0=emp2_copy.iloc[lambda x: train_conti_inv.index,[1,2,3,10,12]]\n",
    "# Feature Department (After Missing Value Treatment)\n",
    "df1=emp_copy2.iloc[lambda x: train_conti_inv.index,[2]]"
   ]
  },
  {
   "cell_type": "markdown",
   "id": "28f92302",
   "metadata": {},
   "source": [
    "- **Concatenate the obtained three datasets**"
   ]
  },
  {
   "cell_type": "code",
   "execution_count": 210,
   "id": "9a6b7d62",
   "metadata": {},
   "outputs": [],
   "source": [
    "emp_train=pd.concat([train_conti_inv, df0, df1], axis=1)"
   ]
  },
  {
   "cell_type": "code",
   "execution_count": 211,
   "id": "7c75ae29",
   "metadata": {},
   "outputs": [
    {
     "data": {
      "text/plain": [
       "employee_id          0\n",
       "avg_monthly_hrs      0\n",
       "filed_complaint      0\n",
       "last_evaluation      0\n",
       "n_projects           0\n",
       "recently_promoted    0\n",
       "satisfaction         0\n",
       "tenure               0\n",
       "age                  0\n",
       "gender               0\n",
       "marital_status       0\n",
       "salary               0\n",
       "status               0\n",
       "department           0\n",
       "dtype: int64"
      ]
     },
     "execution_count": 211,
     "metadata": {},
     "output_type": "execute_result"
    }
   ],
   "source": [
    "emp_train.isnull().sum()"
   ]
  },
  {
   "cell_type": "markdown",
   "id": "9b886f23",
   "metadata": {},
   "source": [
    "- **Verifying Dataframe Shape**"
   ]
  },
  {
   "cell_type": "code",
   "execution_count": 212,
   "id": "d2ed0efa",
   "metadata": {},
   "outputs": [
    {
     "data": {
      "text/plain": [
       "(11292, 14)"
      ]
     },
     "execution_count": 212,
     "metadata": {},
     "output_type": "execute_result"
    }
   ],
   "source": [
    "emp_train.shape"
   ]
  },
  {
   "cell_type": "markdown",
   "id": "1c3c3959",
   "metadata": {},
   "source": [
    "  <a name = Section612></a>\n",
    "### 6.12Saving Train dataset to csv for EDA"
   ]
  },
  {
   "cell_type": "code",
   "execution_count": 213,
   "id": "4a7e4697",
   "metadata": {},
   "outputs": [],
   "source": [
    "emp_train.to_csv('processed_train\\emp_train.csv', index=False)"
   ]
  },
  {
   "cell_type": "markdown",
   "id": "898923f9",
   "metadata": {},
   "source": [
    "  <a name = Section613></a>\n",
    "### 6.13.Saving Train(X,y) , Validation((X,y) Datasets for Model Building activity"
   ]
  },
  {
   "cell_type": "code",
   "execution_count": 214,
   "id": "324ca50f",
   "metadata": {},
   "outputs": [],
   "source": [
    "X_train_df.to_csv('train_test\\X_train.csv', index=False)"
   ]
  },
  {
   "cell_type": "code",
   "execution_count": 215,
   "id": "b3795d3d",
   "metadata": {},
   "outputs": [],
   "source": [
    "X_valid_df.to_csv('train_test\\X_valid.csv', index=False)"
   ]
  },
  {
   "cell_type": "code",
   "execution_count": 216,
   "id": "71fda088",
   "metadata": {},
   "outputs": [],
   "source": [
    "y_train.to_csv('train_test\\y_train.csv', index=False)"
   ]
  },
  {
   "cell_type": "code",
   "execution_count": 217,
   "id": "19e55cf3",
   "metadata": {},
   "outputs": [],
   "source": [
    "y_valid.to_csv('train_test\\y_valid.csv', index=False)"
   ]
  },
  {
   "cell_type": "code",
   "execution_count": 218,
   "id": "2e140a48",
   "metadata": {},
   "outputs": [
    {
     "name": "stdout",
     "output_type": "stream",
     "text": [
      "<class 'pandas.core.frame.DataFrame'>\n",
      "Int64Index: 11292 entries, 11415 to 8323\n",
      "Data columns (total 21 columns):\n",
      " #   Column              Non-Null Count  Dtype  \n",
      "---  ------              --------------  -----  \n",
      " 0   department_D00-ENG  11292 non-null  float64\n",
      " 1   department_D00-FN   11292 non-null  float64\n",
      " 2   department_D00-IT   11292 non-null  float64\n",
      " 3   department_D00-MN   11292 non-null  float64\n",
      " 4   department_D00-MT   11292 non-null  float64\n",
      " 5   department_D00-PD   11292 non-null  float64\n",
      " 6   department_D00-PR   11292 non-null  float64\n",
      " 7   department_D00-SP   11292 non-null  float64\n",
      " 8   department_D00-SS   11292 non-null  float64\n",
      " 9   department_D00-TP   11292 non-null  float64\n",
      " 10  department_missing  11292 non-null  float64\n",
      " 11  salary_low          11292 non-null  float64\n",
      " 12  salary_medium       11292 non-null  float64\n",
      " 13  employee_id         11292 non-null  float64\n",
      " 14  avg_monthly_hrs     11292 non-null  float64\n",
      " 15  filed_complaint     11292 non-null  float64\n",
      " 16  last_evaluation     11292 non-null  float64\n",
      " 17  n_projects          11292 non-null  float64\n",
      " 18  recently_promoted   11292 non-null  float64\n",
      " 19  satisfaction        11292 non-null  float64\n",
      " 20  tenure              11292 non-null  float64\n",
      "dtypes: float64(21)\n",
      "memory usage: 1.9 MB\n"
     ]
    }
   ],
   "source": [
    "X_train_df.info()"
   ]
  },
  {
   "cell_type": "markdown",
   "id": "5ccf9e1e",
   "metadata": {},
   "source": [
    "-------------\n",
    "-------------\n",
    "<a name = Section7></a>\n",
    "## 7. Test Data Preprocessing and PostProcessing Steps\n",
    "-----------"
   ]
  },
  {
   "cell_type": "markdown",
   "id": "870072f5",
   "metadata": {},
   "source": [
    "  <a name = Section71></a>\n",
    "### 7.1Load the Unseen Test Data"
   ]
  },
  {
   "cell_type": "code",
   "execution_count": 219,
   "id": "bb633a07",
   "metadata": {},
   "outputs": [],
   "source": [
    "test_df = pd.read_csv(\"unseen_data.csv\")"
   ]
  },
  {
   "cell_type": "code",
   "execution_count": 220,
   "id": "9b7dba49",
   "metadata": {},
   "outputs": [
    {
     "data": {
      "text/plain": [
       "(100, 10)"
      ]
     },
     "execution_count": 220,
     "metadata": {},
     "output_type": "execute_result"
    }
   ],
   "source": [
    "test_df.shape"
   ]
  },
  {
   "cell_type": "code",
   "execution_count": 221,
   "id": "c1087a14",
   "metadata": {},
   "outputs": [
    {
     "name": "stdout",
     "output_type": "stream",
     "text": [
      "<class 'pandas.core.frame.DataFrame'>\n",
      "RangeIndex: 100 entries, 0 to 99\n",
      "Data columns (total 10 columns):\n",
      " #   Column             Non-Null Count  Dtype  \n",
      "---  ------             --------------  -----  \n",
      " 0   avg_monthly_hrs    100 non-null    int64  \n",
      " 1   department         98 non-null     object \n",
      " 2   filed_complaint    15 non-null     float64\n",
      " 3   last_evaluation    83 non-null     float64\n",
      " 4   n_projects         100 non-null    int64  \n",
      " 5   recently_promoted  3 non-null      float64\n",
      " 6   salary             100 non-null    object \n",
      " 7   satisfaction       97 non-null     float64\n",
      " 8   tenure             97 non-null     float64\n",
      " 9   employee_id        100 non-null    int64  \n",
      "dtypes: float64(5), int64(3), object(2)\n",
      "memory usage: 7.9+ KB\n"
     ]
    }
   ],
   "source": [
    "test_df.info()"
   ]
  },
  {
   "cell_type": "markdown",
   "id": "7fcb1e92",
   "metadata": {},
   "source": [
    "<a name = Section72></a>\n",
    "### 7.2Preprocessing Test Data"
   ]
  },
  {
   "cell_type": "markdown",
   "id": "0cce462f",
   "metadata": {},
   "source": [
    "- **No Duplicate Values**"
   ]
  },
  {
   "cell_type": "code",
   "execution_count": 222,
   "id": "79223319",
   "metadata": {},
   "outputs": [
    {
     "data": {
      "text/plain": [
       "0"
      ]
     },
     "execution_count": 222,
     "metadata": {},
     "output_type": "execute_result"
    }
   ],
   "source": [
    "test_df['employee_id'].isnull().sum()"
   ]
  },
  {
   "cell_type": "code",
   "execution_count": 223,
   "id": "164fa27d",
   "metadata": {},
   "outputs": [
    {
     "data": {
      "text/plain": [
       "D00-SS     27\n",
       "D00-ENG    17\n",
       "D00-SP     13\n",
       "D00-IT      9\n",
       "D00-PD      7\n",
       "D00-MT      7\n",
       "D00-FN      6\n",
       "D00-MN      5\n",
       "D00-TP      3\n",
       "-IT         2\n",
       "D00-PR      1\n",
       "D00-AD      1\n",
       "Name: department, dtype: int64"
      ]
     },
     "execution_count": 223,
     "metadata": {},
     "output_type": "execute_result"
    }
   ],
   "source": [
    "test_df['department'].value_counts()"
   ]
  },
  {
   "cell_type": "markdown",
   "id": "af83704e",
   "metadata": {},
   "source": [
    " **Removing Inconsistency**\n",
    "\n",
    "  - Replace - IT with D00-IT"
   ]
  },
  {
   "cell_type": "code",
   "execution_count": 224,
   "id": "59f47df5",
   "metadata": {},
   "outputs": [],
   "source": [
    "test_df['department'].replace('-IT','D00-IT', inplace=True)"
   ]
  },
  {
   "cell_type": "code",
   "execution_count": 225,
   "id": "32d06973",
   "metadata": {},
   "outputs": [],
   "source": [
    "test_df['department'].replace(np.nan,'missing', inplace=True)\n",
    "test_df['filed_complaint'].replace(np.nan,0, inplace=True)\n",
    "test_df['recently_promoted'].replace(np.nan,0, inplace=True)"
   ]
  },
  {
   "cell_type": "code",
   "execution_count": 226,
   "id": "5329d5dc",
   "metadata": {},
   "outputs": [],
   "source": [
    "test_data=test_df.loc[:,['employee_id','avg_monthly_hrs','department','filed_complaint','last_evaluation','n_projects','recently_promoted','salary','satisfaction','tenure']]"
   ]
  },
  {
   "cell_type": "code",
   "execution_count": 227,
   "id": "1f2df94a",
   "metadata": {},
   "outputs": [],
   "source": [
    "#  Cont and Cat split\n",
    "# ----------------------\n",
    "X_test_cat = test_data.select_dtypes(include=['object'])\n",
    "X_test_cont = test_data.select_dtypes(exclude=['object'])"
   ]
  },
  {
   "cell_type": "code",
   "execution_count": 228,
   "id": "3647980a",
   "metadata": {},
   "outputs": [
    {
     "data": {
      "text/plain": [
       "Index(['department', 'salary'], dtype='object')"
      ]
     },
     "execution_count": 228,
     "metadata": {},
     "output_type": "execute_result"
    }
   ],
   "source": [
    "X_test_cat.columns"
   ]
  },
  {
   "cell_type": "code",
   "execution_count": 230,
   "id": "cca4aaf6",
   "metadata": {},
   "outputs": [],
   "source": [
    "# Encoding and Scaling\n",
    "# ---------------------\n",
    "X_test_ohe = pd.DataFrame(enc_X.transform(X_test_cat), columns = enc_X.get_feature_names_out(X_train_cat.columns), index = X_test_cat.index)\n",
    "X_test_s = pd.DataFrame(scaler.transform(X_test_cont), columns = X_test_cont.columns, index = X_test_cont.index)\n"
   ]
  },
  {
   "cell_type": "code",
   "execution_count": 231,
   "id": "be3a94ba",
   "metadata": {},
   "outputs": [],
   "source": [
    "# Concatenate test cat and test cont\n",
    "# ----------------------------------=\n",
    "X_test_comb = pd.concat([X_test_ohe,X_test_s], axis=1)"
   ]
  },
  {
   "cell_type": "code",
   "execution_count": 232,
   "id": "023a6960",
   "metadata": {},
   "outputs": [],
   "source": [
    "# Imputing using KNN for satisfaction, tenure and last_evaluation\n",
    "# ----------------------------------------\n",
    "X_test_combfill = pd.DataFrame(imputer.transform(X_test_comb),columns = X_train_comb.columns, index=X_test_comb.index)"
   ]
  },
  {
   "cell_type": "code",
   "execution_count": 233,
   "id": "eddaf4f6",
   "metadata": {},
   "outputs": [
    {
     "data": {
      "text/plain": [
       "department_D00-ENG    0\n",
       "department_D00-FN     0\n",
       "department_D00-IT     0\n",
       "department_D00-MN     0\n",
       "department_D00-MT     0\n",
       "department_D00-PD     0\n",
       "department_D00-PR     0\n",
       "department_D00-SP     0\n",
       "department_D00-SS     0\n",
       "department_D00-TP     0\n",
       "department_missing    0\n",
       "salary_low            0\n",
       "salary_medium         0\n",
       "employee_id           0\n",
       "avg_monthly_hrs       0\n",
       "filed_complaint       0\n",
       "last_evaluation       0\n",
       "n_projects            0\n",
       "recently_promoted     0\n",
       "satisfaction          0\n",
       "tenure                0\n",
       "dtype: int64"
      ]
     },
     "execution_count": 233,
     "metadata": {},
     "output_type": "execute_result"
    }
   ],
   "source": [
    "X_test_combfill.isnull().sum()"
   ]
  },
  {
   "cell_type": "code",
   "execution_count": 234,
   "id": "546c913b",
   "metadata": {},
   "outputs": [
    {
     "data": {
      "text/plain": [
       "(100, 21)"
      ]
     },
     "execution_count": 234,
     "metadata": {},
     "output_type": "execute_result"
    }
   ],
   "source": [
    "X_test_combfill.shape"
   ]
  },
  {
   "cell_type": "code",
   "execution_count": 235,
   "id": "8d1e147a",
   "metadata": {},
   "outputs": [],
   "source": [
    "Xconti_inverseS=pd.DataFrame(scaler.inverse_transform(X_test_s), columns = X_train_cont.columns, index = X_test_cont.index)"
   ]
  },
  {
   "cell_type": "code",
   "execution_count": 236,
   "id": "db0b4911",
   "metadata": {},
   "outputs": [
    {
     "data": {
      "text/html": [
       "<div>\n",
       "<style scoped>\n",
       "    .dataframe tbody tr th:only-of-type {\n",
       "        vertical-align: middle;\n",
       "    }\n",
       "\n",
       "    .dataframe tbody tr th {\n",
       "        vertical-align: top;\n",
       "    }\n",
       "\n",
       "    .dataframe thead th {\n",
       "        text-align: right;\n",
       "    }\n",
       "</style>\n",
       "<table border=\"1\" class=\"dataframe\">\n",
       "  <thead>\n",
       "    <tr style=\"text-align: right;\">\n",
       "      <th></th>\n",
       "      <th>department_D00-ENG</th>\n",
       "      <th>department_D00-FN</th>\n",
       "      <th>department_D00-IT</th>\n",
       "      <th>department_D00-MN</th>\n",
       "      <th>department_D00-MT</th>\n",
       "      <th>department_D00-PD</th>\n",
       "      <th>department_D00-PR</th>\n",
       "      <th>department_D00-SP</th>\n",
       "      <th>department_D00-SS</th>\n",
       "      <th>department_D00-TP</th>\n",
       "      <th>...</th>\n",
       "      <th>salary_low</th>\n",
       "      <th>salary_medium</th>\n",
       "      <th>employee_id</th>\n",
       "      <th>avg_monthly_hrs</th>\n",
       "      <th>filed_complaint</th>\n",
       "      <th>last_evaluation</th>\n",
       "      <th>n_projects</th>\n",
       "      <th>recently_promoted</th>\n",
       "      <th>satisfaction</th>\n",
       "      <th>tenure</th>\n",
       "    </tr>\n",
       "  </thead>\n",
       "  <tbody>\n",
       "    <tr>\n",
       "      <th>0</th>\n",
       "      <td>0.0</td>\n",
       "      <td>0.0</td>\n",
       "      <td>1.0</td>\n",
       "      <td>0.0</td>\n",
       "      <td>0.0</td>\n",
       "      <td>0.0</td>\n",
       "      <td>0.0</td>\n",
       "      <td>0.0</td>\n",
       "      <td>0.0</td>\n",
       "      <td>0.0</td>\n",
       "      <td>...</td>\n",
       "      <td>1.0</td>\n",
       "      <td>0.0</td>\n",
       "      <td>0.387506</td>\n",
       "      <td>0.325670</td>\n",
       "      <td>0.0</td>\n",
       "      <td>0.309881</td>\n",
       "      <td>0.166667</td>\n",
       "      <td>0.0</td>\n",
       "      <td>0.375445</td>\n",
       "      <td>0.125</td>\n",
       "    </tr>\n",
       "    <tr>\n",
       "      <th>1</th>\n",
       "      <td>0.0</td>\n",
       "      <td>0.0</td>\n",
       "      <td>0.0</td>\n",
       "      <td>0.0</td>\n",
       "      <td>0.0</td>\n",
       "      <td>1.0</td>\n",
       "      <td>0.0</td>\n",
       "      <td>0.0</td>\n",
       "      <td>0.0</td>\n",
       "      <td>0.0</td>\n",
       "      <td>...</td>\n",
       "      <td>1.0</td>\n",
       "      <td>0.0</td>\n",
       "      <td>0.247960</td>\n",
       "      <td>0.659004</td>\n",
       "      <td>0.0</td>\n",
       "      <td>0.684441</td>\n",
       "      <td>0.166667</td>\n",
       "      <td>0.0</td>\n",
       "      <td>0.749478</td>\n",
       "      <td>0.125</td>\n",
       "    </tr>\n",
       "    <tr>\n",
       "      <th>2</th>\n",
       "      <td>0.0</td>\n",
       "      <td>0.0</td>\n",
       "      <td>0.0</td>\n",
       "      <td>0.0</td>\n",
       "      <td>0.0</td>\n",
       "      <td>0.0</td>\n",
       "      <td>0.0</td>\n",
       "      <td>0.0</td>\n",
       "      <td>1.0</td>\n",
       "      <td>0.0</td>\n",
       "      <td>...</td>\n",
       "      <td>0.0</td>\n",
       "      <td>1.0</td>\n",
       "      <td>0.078201</td>\n",
       "      <td>0.409962</td>\n",
       "      <td>0.0</td>\n",
       "      <td>0.333817</td>\n",
       "      <td>0.166667</td>\n",
       "      <td>0.0</td>\n",
       "      <td>0.308768</td>\n",
       "      <td>0.125</td>\n",
       "    </tr>\n",
       "    <tr>\n",
       "      <th>3</th>\n",
       "      <td>0.0</td>\n",
       "      <td>0.0</td>\n",
       "      <td>0.0</td>\n",
       "      <td>0.0</td>\n",
       "      <td>0.0</td>\n",
       "      <td>0.0</td>\n",
       "      <td>1.0</td>\n",
       "      <td>0.0</td>\n",
       "      <td>0.0</td>\n",
       "      <td>0.0</td>\n",
       "      <td>...</td>\n",
       "      <td>0.0</td>\n",
       "      <td>1.0</td>\n",
       "      <td>0.119071</td>\n",
       "      <td>0.321839</td>\n",
       "      <td>0.0</td>\n",
       "      <td>0.682127</td>\n",
       "      <td>0.500000</td>\n",
       "      <td>0.0</td>\n",
       "      <td>0.825030</td>\n",
       "      <td>0.000</td>\n",
       "    </tr>\n",
       "    <tr>\n",
       "      <th>4</th>\n",
       "      <td>0.0</td>\n",
       "      <td>0.0</td>\n",
       "      <td>0.0</td>\n",
       "      <td>0.0</td>\n",
       "      <td>0.0</td>\n",
       "      <td>0.0</td>\n",
       "      <td>0.0</td>\n",
       "      <td>0.0</td>\n",
       "      <td>1.0</td>\n",
       "      <td>0.0</td>\n",
       "      <td>...</td>\n",
       "      <td>1.0</td>\n",
       "      <td>0.0</td>\n",
       "      <td>0.065375</td>\n",
       "      <td>0.329502</td>\n",
       "      <td>0.0</td>\n",
       "      <td>0.201193</td>\n",
       "      <td>0.166667</td>\n",
       "      <td>0.0</td>\n",
       "      <td>0.292377</td>\n",
       "      <td>0.375</td>\n",
       "    </tr>\n",
       "    <tr>\n",
       "      <th>...</th>\n",
       "      <td>...</td>\n",
       "      <td>...</td>\n",
       "      <td>...</td>\n",
       "      <td>...</td>\n",
       "      <td>...</td>\n",
       "      <td>...</td>\n",
       "      <td>...</td>\n",
       "      <td>...</td>\n",
       "      <td>...</td>\n",
       "      <td>...</td>\n",
       "      <td>...</td>\n",
       "      <td>...</td>\n",
       "      <td>...</td>\n",
       "      <td>...</td>\n",
       "      <td>...</td>\n",
       "      <td>...</td>\n",
       "      <td>...</td>\n",
       "      <td>...</td>\n",
       "      <td>...</td>\n",
       "      <td>...</td>\n",
       "      <td>...</td>\n",
       "    </tr>\n",
       "    <tr>\n",
       "      <th>95</th>\n",
       "      <td>0.0</td>\n",
       "      <td>0.0</td>\n",
       "      <td>0.0</td>\n",
       "      <td>0.0</td>\n",
       "      <td>0.0</td>\n",
       "      <td>0.0</td>\n",
       "      <td>0.0</td>\n",
       "      <td>0.0</td>\n",
       "      <td>1.0</td>\n",
       "      <td>0.0</td>\n",
       "      <td>...</td>\n",
       "      <td>0.0</td>\n",
       "      <td>0.0</td>\n",
       "      <td>0.338843</td>\n",
       "      <td>0.812261</td>\n",
       "      <td>0.0</td>\n",
       "      <td>0.631080</td>\n",
       "      <td>0.500000</td>\n",
       "      <td>0.0</td>\n",
       "      <td>0.752690</td>\n",
       "      <td>0.125</td>\n",
       "    </tr>\n",
       "    <tr>\n",
       "      <th>96</th>\n",
       "      <td>0.0</td>\n",
       "      <td>0.0</td>\n",
       "      <td>0.0</td>\n",
       "      <td>0.0</td>\n",
       "      <td>0.0</td>\n",
       "      <td>1.0</td>\n",
       "      <td>0.0</td>\n",
       "      <td>0.0</td>\n",
       "      <td>0.0</td>\n",
       "      <td>0.0</td>\n",
       "      <td>...</td>\n",
       "      <td>1.0</td>\n",
       "      <td>0.0</td>\n",
       "      <td>0.129298</td>\n",
       "      <td>0.697318</td>\n",
       "      <td>1.0</td>\n",
       "      <td>0.507293</td>\n",
       "      <td>0.333333</td>\n",
       "      <td>0.0</td>\n",
       "      <td>0.646674</td>\n",
       "      <td>0.000</td>\n",
       "    </tr>\n",
       "    <tr>\n",
       "      <th>97</th>\n",
       "      <td>1.0</td>\n",
       "      <td>0.0</td>\n",
       "      <td>0.0</td>\n",
       "      <td>0.0</td>\n",
       "      <td>0.0</td>\n",
       "      <td>0.0</td>\n",
       "      <td>0.0</td>\n",
       "      <td>0.0</td>\n",
       "      <td>0.0</td>\n",
       "      <td>0.0</td>\n",
       "      <td>...</td>\n",
       "      <td>1.0</td>\n",
       "      <td>0.0</td>\n",
       "      <td>0.159306</td>\n",
       "      <td>0.432950</td>\n",
       "      <td>1.0</td>\n",
       "      <td>0.281347</td>\n",
       "      <td>0.500000</td>\n",
       "      <td>0.0</td>\n",
       "      <td>0.880767</td>\n",
       "      <td>0.125</td>\n",
       "    </tr>\n",
       "    <tr>\n",
       "      <th>98</th>\n",
       "      <td>1.0</td>\n",
       "      <td>0.0</td>\n",
       "      <td>0.0</td>\n",
       "      <td>0.0</td>\n",
       "      <td>0.0</td>\n",
       "      <td>0.0</td>\n",
       "      <td>0.0</td>\n",
       "      <td>0.0</td>\n",
       "      <td>0.0</td>\n",
       "      <td>0.0</td>\n",
       "      <td>...</td>\n",
       "      <td>1.0</td>\n",
       "      <td>0.0</td>\n",
       "      <td>0.358398</td>\n",
       "      <td>0.613027</td>\n",
       "      <td>0.0</td>\n",
       "      <td>0.364236</td>\n",
       "      <td>0.333333</td>\n",
       "      <td>0.0</td>\n",
       "      <td>0.584857</td>\n",
       "      <td>0.125</td>\n",
       "    </tr>\n",
       "    <tr>\n",
       "      <th>99</th>\n",
       "      <td>0.0</td>\n",
       "      <td>0.0</td>\n",
       "      <td>1.0</td>\n",
       "      <td>0.0</td>\n",
       "      <td>0.0</td>\n",
       "      <td>0.0</td>\n",
       "      <td>0.0</td>\n",
       "      <td>0.0</td>\n",
       "      <td>0.0</td>\n",
       "      <td>0.0</td>\n",
       "      <td>...</td>\n",
       "      <td>1.0</td>\n",
       "      <td>0.0</td>\n",
       "      <td>0.162763</td>\n",
       "      <td>0.536398</td>\n",
       "      <td>0.0</td>\n",
       "      <td>0.925804</td>\n",
       "      <td>0.333333</td>\n",
       "      <td>0.0</td>\n",
       "      <td>0.851004</td>\n",
       "      <td>0.500</td>\n",
       "    </tr>\n",
       "  </tbody>\n",
       "</table>\n",
       "<p>100 rows × 21 columns</p>\n",
       "</div>"
      ],
      "text/plain": [
       "    department_D00-ENG  department_D00-FN  department_D00-IT  \\\n",
       "0                  0.0                0.0                1.0   \n",
       "1                  0.0                0.0                0.0   \n",
       "2                  0.0                0.0                0.0   \n",
       "3                  0.0                0.0                0.0   \n",
       "4                  0.0                0.0                0.0   \n",
       "..                 ...                ...                ...   \n",
       "95                 0.0                0.0                0.0   \n",
       "96                 0.0                0.0                0.0   \n",
       "97                 1.0                0.0                0.0   \n",
       "98                 1.0                0.0                0.0   \n",
       "99                 0.0                0.0                1.0   \n",
       "\n",
       "    department_D00-MN  department_D00-MT  department_D00-PD  \\\n",
       "0                 0.0                0.0                0.0   \n",
       "1                 0.0                0.0                1.0   \n",
       "2                 0.0                0.0                0.0   \n",
       "3                 0.0                0.0                0.0   \n",
       "4                 0.0                0.0                0.0   \n",
       "..                ...                ...                ...   \n",
       "95                0.0                0.0                0.0   \n",
       "96                0.0                0.0                1.0   \n",
       "97                0.0                0.0                0.0   \n",
       "98                0.0                0.0                0.0   \n",
       "99                0.0                0.0                0.0   \n",
       "\n",
       "    department_D00-PR  department_D00-SP  department_D00-SS  \\\n",
       "0                 0.0                0.0                0.0   \n",
       "1                 0.0                0.0                0.0   \n",
       "2                 0.0                0.0                1.0   \n",
       "3                 1.0                0.0                0.0   \n",
       "4                 0.0                0.0                1.0   \n",
       "..                ...                ...                ...   \n",
       "95                0.0                0.0                1.0   \n",
       "96                0.0                0.0                0.0   \n",
       "97                0.0                0.0                0.0   \n",
       "98                0.0                0.0                0.0   \n",
       "99                0.0                0.0                0.0   \n",
       "\n",
       "    department_D00-TP  ...  salary_low  salary_medium  employee_id  \\\n",
       "0                 0.0  ...         1.0            0.0     0.387506   \n",
       "1                 0.0  ...         1.0            0.0     0.247960   \n",
       "2                 0.0  ...         0.0            1.0     0.078201   \n",
       "3                 0.0  ...         0.0            1.0     0.119071   \n",
       "4                 0.0  ...         1.0            0.0     0.065375   \n",
       "..                ...  ...         ...            ...          ...   \n",
       "95                0.0  ...         0.0            0.0     0.338843   \n",
       "96                0.0  ...         1.0            0.0     0.129298   \n",
       "97                0.0  ...         1.0            0.0     0.159306   \n",
       "98                0.0  ...         1.0            0.0     0.358398   \n",
       "99                0.0  ...         1.0            0.0     0.162763   \n",
       "\n",
       "    avg_monthly_hrs  filed_complaint  last_evaluation  n_projects  \\\n",
       "0          0.325670              0.0         0.309881    0.166667   \n",
       "1          0.659004              0.0         0.684441    0.166667   \n",
       "2          0.409962              0.0         0.333817    0.166667   \n",
       "3          0.321839              0.0         0.682127    0.500000   \n",
       "4          0.329502              0.0         0.201193    0.166667   \n",
       "..              ...              ...              ...         ...   \n",
       "95         0.812261              0.0         0.631080    0.500000   \n",
       "96         0.697318              1.0         0.507293    0.333333   \n",
       "97         0.432950              1.0         0.281347    0.500000   \n",
       "98         0.613027              0.0         0.364236    0.333333   \n",
       "99         0.536398              0.0         0.925804    0.333333   \n",
       "\n",
       "    recently_promoted  satisfaction  tenure  \n",
       "0                 0.0      0.375445   0.125  \n",
       "1                 0.0      0.749478   0.125  \n",
       "2                 0.0      0.308768   0.125  \n",
       "3                 0.0      0.825030   0.000  \n",
       "4                 0.0      0.292377   0.375  \n",
       "..                ...           ...     ...  \n",
       "95                0.0      0.752690   0.125  \n",
       "96                0.0      0.646674   0.000  \n",
       "97                0.0      0.880767   0.125  \n",
       "98                0.0      0.584857   0.125  \n",
       "99                0.0      0.851004   0.500  \n",
       "\n",
       "[100 rows x 21 columns]"
      ]
     },
     "execution_count": 236,
     "metadata": {},
     "output_type": "execute_result"
    }
   ],
   "source": [
    "X_test_combfill"
   ]
  },
  {
   "cell_type": "markdown",
   "id": "bdefc3cb",
   "metadata": {},
   "source": [
    "<a name = Section73></a>\n",
    "### 7.3 Saving Test Data"
   ]
  },
  {
   "cell_type": "code",
   "execution_count": 237,
   "id": "87c2d89d",
   "metadata": {},
   "outputs": [],
   "source": [
    "X_test_combfill.to_csv('unseen\\X_test.csv', index=False)"
   ]
  },
  {
   "cell_type": "code",
   "execution_count": 238,
   "id": "a2819061",
   "metadata": {},
   "outputs": [],
   "source": [
    "Xconti_inverseS['employee_id'].to_csv('unseen\\employee_id.csv', index=False)"
   ]
  },
  {
   "cell_type": "code",
   "execution_count": null,
   "id": "aaaa4ff1",
   "metadata": {},
   "outputs": [],
   "source": []
  }
 ],
 "metadata": {
  "kernelspec": {
   "display_name": "Python 3 (ipykernel)",
   "language": "python",
   "name": "python3"
  },
  "language_info": {
   "codemirror_mode": {
    "name": "ipython",
    "version": 3
   },
   "file_extension": ".py",
   "mimetype": "text/x-python",
   "name": "python",
   "nbconvert_exporter": "python",
   "pygments_lexer": "ipython3",
   "version": "3.9.13"
  }
 },
 "nbformat": 4,
 "nbformat_minor": 5
}
