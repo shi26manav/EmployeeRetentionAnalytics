{
 "cells": [
  {
   "cell_type": "markdown",
   "id": "0ab19656",
   "metadata": {},
   "source": [
    "<center><img src=\"https://github.com/insaid2018/Term-1/blob/master/Images/INSAID_Full%20Logo.png?raw=true\" width=\"240\" height=\"100\" /></center>\n",
    "\n",
    "## **<center>Capstone Project Group-1012</center>**\n",
    "## **<center><font color=#154360><u>EMPLOYEE RETENTION ANALYTICS</center>**"
   ]
  },
  {
   "cell_type": "markdown",
   "id": "643847bc",
   "metadata": {},
   "source": [
    "---\n",
    "# **Table of Contents**\n",
    "---\n",
    "\n",
    "**1.** [**Introduction**](#Section1)<br>\n",
    "\n",
    "**2.** [**Problem Statement**](#Section2)<br>\n",
    "**3.** [**Installing & Importing Libraries**](#Section3)<br>\n",
    "  - **3.1** [**Installing Libraries**](#Section31)<br>\n",
    "  - **3.2** [**Upgrading Libraries**](#Section32)<br>\n",
    "  - **3.3** [**Importing Libraries**](#Section33)<br>\n",
    "\n",
    "**4.** [**Data Acquisition & Description**](#Section4)<br>\n",
    "  - **4.1** [**Data Description**](#Section41)\n",
    "  - **4.2** [**Data Information**](#Section42)\n",
    "  \n",
    "**5.** [**Data Pre-Processing**](#Section5)<br>\n",
    "  - **5.1.** [**Data Pre-Profiling**](#Section51)\n",
    "  - **5.2.** [**Data Cleaning**](#Section52)     \n",
    "     - **5.2.1.** [**Drop Duplicate Rows or Features**](#Section521)\n",
    "     - **5.2.2.** [**Check for Inconsistent Values**](#Section522)\n",
    "     - **5.2.3.** [**Handling Inconsistent Values**](#Section523)\n",
    "  - **5.3.** [**Data Merging**](#Section53)\n",
    "     - **5.3.1.** [**Merging the 3 Dataset**](#Section531)\n",
    "  - **5.4** [**Saving the Final Dataset to a CSV file**](#Section54)\n",
    "  \n",
    "**6.** [**Feature Engineering Steps**](./FeatureEngineering.ipynb)<br>\n",
    "   - **6.1** [**Handling Missing Values -Univariate**](./FeatureEngineering.ipynb)\n",
    "   - **6.2** [**Data Splitting**](./FeatureEngineering.ipynb)\n",
    "   - **6.3** [**Data Encoding**](./FeatureEngineering.ipynb)\n",
    "   - **6.4** [**Feature Scaling**](./FeatureEngineering.ipynb)\n",
    "   - **6.5** [**Handling Missing Values -Multivariate**](./FeatureEngineering.ipynb)\n",
    "\n",
    "**7.** [**Test Data Pre-Processing and Post-Processing**](./FeatureEngineering.ipynb)\n",
    "\n",
    "\n",
    "**8.** [**Exploratory Data Analysis**](./eda.ipynb)<br>\n",
    "\n",
    "**9.** [**Summarization**](./eda.ipynb)\n",
    "  - **9.1** [**Summary**](./eda.ipynb)\n",
    "  - **9.2** [**Conclusion**](./eda.ipynb)<br>\n",
    "  - **9.3** [**Actionable Insights**](./eda.ipynb)<br>\n",
    "    \n",
    "\n",
    "**10.** [**Model Development and Evaluation**](./Model_Building.ipynb)<br>\n",
    "  - **10.1** [**Model Development & Evaluation without Tuning**](./Model_Building.ipynb)<br>\n",
    "  - **10.2** [**Hyperparameter Tuning**](./Model_Building.ipynb)<br>\n",
    "  - **10.3** [**Model Development & Evaluation after Tuning**](./Model_Building.ipynb)<br>\n",
    "  - **10.4** [**Cross-Validating the Models**](./Model_Building.ipynb)<br>\n",
    "  - **10.5** [**Model Comparison**](./Model_Building.ipynb)<br>\n",
    "\n"
   ]
  },
  {
   "cell_type": "markdown",
   "id": "748e195e",
   "metadata": {},
   "source": [
    "---\n",
    "<a name = Section1></a>\n",
    "# **1. Introduction**\n",
    "---"
   ]
  },
  {
   "cell_type": "markdown",
   "id": "fbc6d673",
   "metadata": {},
   "source": [
    "- HR Department of a software company is the client for this project.\n",
    "\n",
    "- They want to try a new initiative to retain employees.\n",
    "\n",
    "- The idea is to use data to predict whether an employee is likely to leave.\n",
    "\n",
    "- Once these employees are identified, HR can be more proactive in reaching out to them before it's too late.\n",
    "\n",
    "- They only want to deal with the data that is related to permanent employees.\n",
    "\n",
    "<center><img src=\"https://projects.insaid.co/capstone2/hr.png\" width=\"700\" height=\"500\"></center>"
   ]
  },
  {
   "cell_type": "markdown",
   "id": "a951c0ce",
   "metadata": {},
   "source": [
    "---\n",
    "<a name = Section2></a>\n",
    "# **2. Problem Statement**\n",
    "---\n",
    "\n",
    "**Current Practice**\n",
    "- Once an employee leaves, he or she is taken an interview with the name “exit interview” and shares reasons for leaving.\n",
    "- The HR Department then tries and learns insights from the interview and makes changes accordingly.\n",
    "\n",
    "**Issues with current Approach :**\n",
    "\n",
    "- 1. This approach is that it's too haphazard. The quality of insight gained from an interview depends heavily on the skill of the interviewer.\n",
    "- 2. The second problem is these insights can't be aggregated and interlaced across all employees who have left.\n",
    "- 3. The third is that it is too late by the time the proposed policy changes take effect.\n",
    "\n",
    "**Requirement : They want to supplement their exit interviews with a more proactive approach.**"
   ]
  },
  {
   "cell_type": "markdown",
   "id": "4cb4609a",
   "metadata": {},
   "source": [
    "---\n",
    "<a name = Section3></a>\n",
    "# **3. Installing & Importing Libraries**\n",
    "---"
   ]
  },
  {
   "cell_type": "markdown",
   "id": "b8ffb69e",
   "metadata": {},
   "source": [
    "<a name = Section31></a>\n",
    "### **3.1 Installing Libraries**"
   ]
  },
  {
   "cell_type": "code",
   "execution_count": 1,
   "id": "4d9cbbf4",
   "metadata": {},
   "outputs": [
    {
     "name": "stdout",
     "output_type": "stream",
     "text": [
      "Requirement already satisfied: mysql-connector-python in c:\\users\\hp\\anaconda3\\lib\\site-packages (8.0.31)\n",
      "Requirement already satisfied: protobuf<=3.20.1,>=3.11.0 in c:\\users\\hp\\anaconda3\\lib\\site-packages (from mysql-connector-python) (3.20.1)\n",
      "Requirement already satisfied: pipreqsnb in c:\\users\\hp\\anaconda3\\lib\\site-packages (0.2.4)\n",
      "Requirement already satisfied: pipreqs in c:\\users\\hp\\anaconda3\\lib\\site-packages (from pipreqsnb) (0.4.11)\n",
      "Requirement already satisfied: yarg in c:\\users\\hp\\anaconda3\\lib\\site-packages (from pipreqs->pipreqsnb) (0.1.9)\n",
      "Requirement already satisfied: docopt in c:\\users\\hp\\anaconda3\\lib\\site-packages (from pipreqs->pipreqsnb) (0.6.2)\n",
      "Requirement already satisfied: requests in c:\\users\\hp\\anaconda3\\lib\\site-packages (from yarg->pipreqs->pipreqsnb) (2.28.1)\n",
      "Requirement already satisfied: idna<4,>=2.5 in c:\\users\\hp\\anaconda3\\lib\\site-packages (from requests->yarg->pipreqs->pipreqsnb) (3.3)\n",
      "Requirement already satisfied: urllib3<1.27,>=1.21.1 in c:\\users\\hp\\anaconda3\\lib\\site-packages (from requests->yarg->pipreqs->pipreqsnb) (1.26.11)\n",
      "Requirement already satisfied: charset-normalizer<3,>=2 in c:\\users\\hp\\anaconda3\\lib\\site-packages (from requests->yarg->pipreqs->pipreqsnb) (2.0.4)\n",
      "Requirement already satisfied: certifi>=2017.4.17 in c:\\users\\hp\\anaconda3\\lib\\site-packages (from requests->yarg->pipreqs->pipreqsnb) (2022.9.14)\n"
     ]
    }
   ],
   "source": [
    "# Package that is required by pandas profiling\n",
    "!pip install -q datascience \n",
    "# Library to generate basic statistics about data\n",
    "!pip install -q pandas-profiling      \n",
    "# Package required to connect to the data source\n",
    "!pip install mysql-connector-python                                 \n",
    "# Package required for creating requirements.txt file\n",
    "!pip install pipreqsnb\n",
    "\n"
   ]
  },
  {
   "cell_type": "code",
   "execution_count": 2,
   "id": "8b2a2468",
   "metadata": {},
   "outputs": [
    {
     "name": "stdout",
     "output_type": "stream",
     "text": [
      "pipreqs  D:\\DS_Projects\\capstone2_grp1012\\Employee_Retention_Analytics\\req\n"
     ]
    },
    {
     "name": "stderr",
     "output_type": "stream",
     "text": [
      "WARNING: requirements.txt already exists, use --force to overwrite it\n"
     ]
    }
   ],
   "source": [
    "!pipreqsnb D:\\DS_Projects\\capstone2_grp1012\\Employee_Retention_Analytics\\req"
   ]
  },
  {
   "cell_type": "markdown",
   "id": "a089dc11",
   "metadata": {},
   "source": [
    "<a name = Section32></a>\n",
    "### **3.2 Upgrading Libraries**\n",
    "\n",
    "- **After upgrading** the libraries, need to **restart the runtime** to make the libraries in sync. \n",
    "\n",
    "- Cell above (3.1) and below (3.2) will not be excuted again after restarting the runtime."
   ]
  },
  {
   "cell_type": "code",
   "execution_count": 3,
   "id": "4a26debd",
   "metadata": {},
   "outputs": [],
   "source": [
    "!pip install -q --upgrade pandas-profiling"
   ]
  },
  {
   "cell_type": "markdown",
   "id": "8396ac8b",
   "metadata": {},
   "source": [
    "<a name = Section33></a>\n",
    "### **3.3 Importing Libraries**"
   ]
  },
  {
   "cell_type": "code",
   "execution_count": 1,
   "id": "6cd8ea1a",
   "metadata": {},
   "outputs": [],
   "source": [
    "#-------------------------------------------------------------------------------------------------------------------------------\n",
    "import pandas as pd                                                 # Importing for panel data analysis\n",
    "from pandas_profiling import ProfileReport                          # Importing Pandas Profiling (To generate Univariate Analysis)\n",
    "pd.set_option('display.max_columns', None)                          # Unfolding hidden features if the cardinality is high\n",
    "pd.set_option('display.max_colwidth', None)                         # Unfolding the max feature width for better clearity\n",
    "pd.set_option('display.max_rows', None)                             # Unfolding hidden data points if the cardinality is high\n",
    "pd.set_option('mode.chained_assignment', None)                      # Removing restriction over chained assignments operations\n",
    "pd.set_option('display.float_format', lambda x: '%.5f' % x)         # To suppress scientific notation over exponential values\n",
    "#-------------------------------------------------------------------------------------------------------------------------------\n",
    "import numpy as np                                                  # Importing package numpys (For Numerical Python)\n",
    "#-------------------------------------------------------------------------------------------------------------------------------\n",
    "import matplotlib.pyplot as plt                                     # Importing pyplot interface using matplotlib\n",
    "import seaborn as sns                                               # Importing seaborn library for interactive visualization\n",
    "#--------------------------------------------------------------------------------------------------------------------------------\n",
    "import warnings                                                     # Importing Package to ignore any warnings\n",
    "import mysql.connector                                              # Importing mysql connector package to connect to mysql database"
   ]
  },
  {
   "cell_type": "markdown",
   "id": "7b079154",
   "metadata": {},
   "source": [
    "---\n",
    "<a name = Section4></a>\n",
    "# **4. Data Acquisition and Description**\n",
    "---\n",
    "\n",
    "- Three datasets are provided that contain information about past employees and their status (still employed or already left).\n",
    "\n",
    " 1. **department_data** contains information about each department. The schema of the dataset is as follows:\n",
    "<br>\n",
    "\n",
    "|Dataset-1| \n",
    "|:--|\n",
    "| **department_data** | \n",
    "<br>\n",
    "\n",
    "|id| **Feature Name** | **Description** |\n",
    "|:--|:--|:--|\n",
    "|01| **dept_id** | Unique Department Code. |\n",
    "|02| **dept_name** | Name of the Department. |\n",
    "|03| **dept_head** | Name of the Head of the Department. |\n",
    "\n",
    "<br>\n",
    "<br>\n",
    "\n",
    "2. **employee_details_data** consists of Employee ID, their Age, Gender and Marital Status. The schema of this dataset is as follows:\n",
    "<br>\n",
    "\n",
    "|Dataset-2| \n",
    "|:--|\n",
    "| **employee_details_data** | \n",
    "<br>\n",
    "\n",
    "|id| **Feature Name** | **Description** |\n",
    "|:--|:--|:--|\n",
    "|01| **employee_id** | Unique ID Number for each employee |\n",
    "|02| **age** | Age of the employee |\n",
    "|03| **gender** | Gender of the employee |\n",
    "|04| **marital_status** | Marital Status of the employee |\n",
    "\n",
    "\n",
    "<br><br>\n",
    "\n",
    "3. **employee_data** dataset consists of each employee’s Administrative Information, Workload Information, Mutual Evaluation Information and Status.\n",
    "<br>\n",
    "\n",
    "|Dataset-3| \n",
    "|:--|\n",
    "| **employee_data** | \n",
    "<br>\n",
    "\n",
    "|id| **Feature Name** | **Description** |\n",
    "|:--|:--|:--|\n",
    "|01| **department** | Department to which the employees belong(ed) to |\n",
    "|02| **salary** | Salary level with respect to rest of their department |\n",
    "|03| **tenure** | Number of years at the company |\n",
    "|04| **recently_promoted** | Was the employee promoted in the last 3 years? |\n",
    "|05| **employee_id** | Unique ID Number for each employee |\n",
    "|06| **n_projects** | Number of projects employee has worked on |\n",
    "|07| **avg_monthly_hrs** | Average number of hours worked per month |\n",
    "|08| **satisfaction** | Score for employee’s satisfaction with the company (higher is better) |\n",
    "|09| **last_evaluation** | Score for most recent evaluation of employee (higher is better) |\n",
    "|10| **filed_complaint** | Has the employee filed a formal complaint in the last 3 years? |\n",
    "|11| **status** | Current employment status (Employed / Left) |"
   ]
  },
  {
   "cell_type": "markdown",
   "id": "0c33e034",
   "metadata": {},
   "source": [
    "- **Acquiring data from secondary Datastore**"
   ]
  },
  {
   "cell_type": "code",
   "execution_count": 5,
   "id": "1e87014e",
   "metadata": {},
   "outputs": [
    {
     "name": "stdout",
     "output_type": "stream",
     "text": [
      "The shapes of the three datasets are:\n",
      "department_data : (11, 3)\n",
      "employee_details_data : (14245, 4)\n",
      "employee_data : (14150, 11)\n"
     ]
    }
   ],
   "source": [
    "warnings.simplefilter(action='ignore', category=UserWarning) \n",
    "\n",
    "\n",
    "cnx = mysql.connector.connect(user='student', password='student',\n",
    "                              host='cpanel.insaid.co',\n",
    "                              database='Capstone2')\n",
    "try :\n",
    "    dept_query = \"Select * from Capstone2.department_data;\"\n",
    "    dept_df = pd.read_sql(dept_query,cnx)\n",
    "    emp_det_query = \"Select * from Capstone2.employee_details_data;\"\n",
    "    emp_det_df = pd.read_sql(emp_det_query,cnx)\n",
    "    emp_query = \"Select * from Capstone2.employee_data;\"\n",
    "    emp_df = pd.read_sql(emp_query,cnx)\n",
    "    cnx.close() #close the connection\n",
    "\n",
    "except Exception as e:\n",
    "    cnx.close()\n",
    "    print(str(e))\n",
    "    \n",
    "print(\"The shapes of the three datasets are:\")    \n",
    "print(\"department_data :\",  dept_df.shape)\n",
    "print(\"employee_details_data :\",  emp_det_df.shape)\n",
    "print(\"employee_data :\",  emp_df.shape)"
   ]
  },
  {
   "cell_type": "markdown",
   "id": "6211f283",
   "metadata": {},
   "source": [
    "<a name = Section41></a>\n",
    "### **4.1 Data Description**\n",
    "\n",
    "- The **description** of various features in the three datasets"
   ]
  },
  {
   "cell_type": "markdown",
   "id": "91ee5701",
   "metadata": {},
   "source": [
    "### 1. department_data : dept_df"
   ]
  },
  {
   "cell_type": "code",
   "execution_count": 6,
   "id": "20ab9717",
   "metadata": {},
   "outputs": [
    {
     "data": {
      "text/html": [
       "<div>\n",
       "<style scoped>\n",
       "    .dataframe tbody tr th:only-of-type {\n",
       "        vertical-align: middle;\n",
       "    }\n",
       "\n",
       "    .dataframe tbody tr th {\n",
       "        vertical-align: top;\n",
       "    }\n",
       "\n",
       "    .dataframe thead th {\n",
       "        text-align: right;\n",
       "    }\n",
       "</style>\n",
       "<table border=\"1\" class=\"dataframe\">\n",
       "  <thead>\n",
       "    <tr style=\"text-align: right;\">\n",
       "      <th></th>\n",
       "      <th>dept_id</th>\n",
       "      <th>dept_name</th>\n",
       "      <th>dept_head</th>\n",
       "    </tr>\n",
       "  </thead>\n",
       "  <tbody>\n",
       "    <tr>\n",
       "      <th>0</th>\n",
       "      <td>D00-IT</td>\n",
       "      <td>IT</td>\n",
       "      <td>Henry Adey</td>\n",
       "    </tr>\n",
       "    <tr>\n",
       "      <th>1</th>\n",
       "      <td>D00-SS</td>\n",
       "      <td>Sales</td>\n",
       "      <td>Edward J Bayley</td>\n",
       "    </tr>\n",
       "    <tr>\n",
       "      <th>2</th>\n",
       "      <td>D00-TP</td>\n",
       "      <td>Temp</td>\n",
       "      <td>Micheal Zachrey</td>\n",
       "    </tr>\n",
       "    <tr>\n",
       "      <th>3</th>\n",
       "      <td>D00-ENG</td>\n",
       "      <td>Engineering</td>\n",
       "      <td>Sushant Raghunathan K</td>\n",
       "    </tr>\n",
       "    <tr>\n",
       "      <th>4</th>\n",
       "      <td>D00-SP</td>\n",
       "      <td>Support</td>\n",
       "      <td>Amelia Westray</td>\n",
       "    </tr>\n",
       "  </tbody>\n",
       "</table>\n",
       "</div>"
      ],
      "text/plain": [
       "   dept_id    dept_name              dept_head\n",
       "0   D00-IT           IT             Henry Adey\n",
       "1   D00-SS        Sales        Edward J Bayley\n",
       "2   D00-TP         Temp        Micheal Zachrey\n",
       "3  D00-ENG  Engineering  Sushant Raghunathan K\n",
       "4   D00-SP      Support         Amelia Westray"
      ]
     },
     "execution_count": 6,
     "metadata": {},
     "output_type": "execute_result"
    }
   ],
   "source": [
    "dept_df.head()"
   ]
  },
  {
   "cell_type": "code",
   "execution_count": 7,
   "id": "c309998c",
   "metadata": {},
   "outputs": [
    {
     "name": "stdout",
     "output_type": "stream",
     "text": [
      "<class 'pandas.core.frame.DataFrame'>\n",
      "RangeIndex: 11 entries, 0 to 10\n",
      "Data columns (total 3 columns):\n",
      " #   Column     Non-Null Count  Dtype \n",
      "---  ------     --------------  ----- \n",
      " 0   dept_id    11 non-null     object\n",
      " 1   dept_name  11 non-null     object\n",
      " 2   dept_head  11 non-null     object\n",
      "dtypes: object(3)\n",
      "memory usage: 392.0+ bytes\n"
     ]
    }
   ],
   "source": [
    "dept_df.info()"
   ]
  },
  {
   "cell_type": "code",
   "execution_count": 8,
   "id": "16cd2ad5",
   "metadata": {},
   "outputs": [
    {
     "data": {
      "text/html": [
       "<div>\n",
       "<style scoped>\n",
       "    .dataframe tbody tr th:only-of-type {\n",
       "        vertical-align: middle;\n",
       "    }\n",
       "\n",
       "    .dataframe tbody tr th {\n",
       "        vertical-align: top;\n",
       "    }\n",
       "\n",
       "    .dataframe thead th {\n",
       "        text-align: right;\n",
       "    }\n",
       "</style>\n",
       "<table border=\"1\" class=\"dataframe\">\n",
       "  <thead>\n",
       "    <tr style=\"text-align: right;\">\n",
       "      <th></th>\n",
       "      <th>dept_id</th>\n",
       "      <th>dept_name</th>\n",
       "      <th>dept_head</th>\n",
       "    </tr>\n",
       "  </thead>\n",
       "  <tbody>\n",
       "    <tr>\n",
       "      <th>count</th>\n",
       "      <td>11</td>\n",
       "      <td>11</td>\n",
       "      <td>11</td>\n",
       "    </tr>\n",
       "    <tr>\n",
       "      <th>unique</th>\n",
       "      <td>11</td>\n",
       "      <td>11</td>\n",
       "      <td>11</td>\n",
       "    </tr>\n",
       "    <tr>\n",
       "      <th>top</th>\n",
       "      <td>D00-IT</td>\n",
       "      <td>IT</td>\n",
       "      <td>Henry Adey</td>\n",
       "    </tr>\n",
       "    <tr>\n",
       "      <th>freq</th>\n",
       "      <td>1</td>\n",
       "      <td>1</td>\n",
       "      <td>1</td>\n",
       "    </tr>\n",
       "  </tbody>\n",
       "</table>\n",
       "</div>"
      ],
      "text/plain": [
       "       dept_id dept_name   dept_head\n",
       "count       11        11          11\n",
       "unique      11        11          11\n",
       "top     D00-IT        IT  Henry Adey\n",
       "freq         1         1           1"
      ]
     },
     "execution_count": 8,
     "metadata": {},
     "output_type": "execute_result"
    }
   ],
   "source": [
    "dept_df.describe()"
   ]
  },
  {
   "cell_type": "markdown",
   "id": "92bc8463",
   "metadata": {},
   "source": [
    "**<font color=#196F3D>Observations for department_data**\n",
    "- <i>dept_df dataset is of **shape (11, 3)**\n",
    "- <i>No rows have missing values\n",
    "- <i>No duplicate rows found\n",
    "- <i>All **3 features** are of **Object Type**\n"
   ]
  },
  {
   "cell_type": "markdown",
   "id": "512becec",
   "metadata": {},
   "source": [
    "### 2. employee_details_data: emp_det_df"
   ]
  },
  {
   "cell_type": "code",
   "execution_count": 9,
   "id": "a14942f2",
   "metadata": {},
   "outputs": [
    {
     "data": {
      "text/html": [
       "<div>\n",
       "<style scoped>\n",
       "    .dataframe tbody tr th:only-of-type {\n",
       "        vertical-align: middle;\n",
       "    }\n",
       "\n",
       "    .dataframe tbody tr th {\n",
       "        vertical-align: top;\n",
       "    }\n",
       "\n",
       "    .dataframe thead th {\n",
       "        text-align: right;\n",
       "    }\n",
       "</style>\n",
       "<table border=\"1\" class=\"dataframe\">\n",
       "  <thead>\n",
       "    <tr style=\"text-align: right;\">\n",
       "      <th></th>\n",
       "      <th>employee_id</th>\n",
       "      <th>age</th>\n",
       "      <th>gender</th>\n",
       "      <th>marital_status</th>\n",
       "    </tr>\n",
       "  </thead>\n",
       "  <tbody>\n",
       "    <tr>\n",
       "      <th>0</th>\n",
       "      <td>113558</td>\n",
       "      <td>43</td>\n",
       "      <td>Male</td>\n",
       "      <td>Married</td>\n",
       "    </tr>\n",
       "    <tr>\n",
       "      <th>1</th>\n",
       "      <td>112256</td>\n",
       "      <td>24</td>\n",
       "      <td>Female</td>\n",
       "      <td>Unmarried</td>\n",
       "    </tr>\n",
       "    <tr>\n",
       "      <th>2</th>\n",
       "      <td>112586</td>\n",
       "      <td>22</td>\n",
       "      <td>Female</td>\n",
       "      <td>Unmarried</td>\n",
       "    </tr>\n",
       "    <tr>\n",
       "      <th>3</th>\n",
       "      <td>108071</td>\n",
       "      <td>36</td>\n",
       "      <td>Male</td>\n",
       "      <td>Married</td>\n",
       "    </tr>\n",
       "    <tr>\n",
       "      <th>4</th>\n",
       "      <td>116915</td>\n",
       "      <td>38</td>\n",
       "      <td>Male</td>\n",
       "      <td>Married</td>\n",
       "    </tr>\n",
       "  </tbody>\n",
       "</table>\n",
       "</div>"
      ],
      "text/plain": [
       "   employee_id  age  gender marital_status\n",
       "0       113558   43    Male        Married\n",
       "1       112256   24  Female      Unmarried\n",
       "2       112586   22  Female      Unmarried\n",
       "3       108071   36    Male        Married\n",
       "4       116915   38    Male        Married"
      ]
     },
     "execution_count": 9,
     "metadata": {},
     "output_type": "execute_result"
    }
   ],
   "source": [
    "emp_det_df.head()"
   ]
  },
  {
   "cell_type": "code",
   "execution_count": 10,
   "id": "9503bc01",
   "metadata": {},
   "outputs": [
    {
     "name": "stdout",
     "output_type": "stream",
     "text": [
      "<class 'pandas.core.frame.DataFrame'>\n",
      "RangeIndex: 14245 entries, 0 to 14244\n",
      "Data columns (total 4 columns):\n",
      " #   Column          Non-Null Count  Dtype \n",
      "---  ------          --------------  ----- \n",
      " 0   employee_id     14245 non-null  int64 \n",
      " 1   age             14245 non-null  int64 \n",
      " 2   gender          14245 non-null  object\n",
      " 3   marital_status  14245 non-null  object\n",
      "dtypes: int64(2), object(2)\n",
      "memory usage: 445.3+ KB\n"
     ]
    }
   ],
   "source": [
    "emp_det_df.info()"
   ]
  },
  {
   "cell_type": "code",
   "execution_count": 11,
   "id": "f49f7ccd",
   "metadata": {},
   "outputs": [
    {
     "data": {
      "text/html": [
       "<div>\n",
       "<style scoped>\n",
       "    .dataframe tbody tr th:only-of-type {\n",
       "        vertical-align: middle;\n",
       "    }\n",
       "\n",
       "    .dataframe tbody tr th {\n",
       "        vertical-align: top;\n",
       "    }\n",
       "\n",
       "    .dataframe thead th {\n",
       "        text-align: right;\n",
       "    }\n",
       "</style>\n",
       "<table border=\"1\" class=\"dataframe\">\n",
       "  <thead>\n",
       "    <tr style=\"text-align: right;\">\n",
       "      <th></th>\n",
       "      <th>employee_id</th>\n",
       "      <th>age</th>\n",
       "    </tr>\n",
       "  </thead>\n",
       "  <tbody>\n",
       "    <tr>\n",
       "      <th>count</th>\n",
       "      <td>14245.00000</td>\n",
       "      <td>14245.00000</td>\n",
       "    </tr>\n",
       "    <tr>\n",
       "      <th>mean</th>\n",
       "      <td>112123.05054</td>\n",
       "      <td>32.88993</td>\n",
       "    </tr>\n",
       "    <tr>\n",
       "      <th>std</th>\n",
       "      <td>8500.45734</td>\n",
       "      <td>9.97083</td>\n",
       "    </tr>\n",
       "    <tr>\n",
       "      <th>min</th>\n",
       "      <td>100101.00000</td>\n",
       "      <td>22.00000</td>\n",
       "    </tr>\n",
       "    <tr>\n",
       "      <th>25%</th>\n",
       "      <td>105775.00000</td>\n",
       "      <td>24.00000</td>\n",
       "    </tr>\n",
       "    <tr>\n",
       "      <th>50%</th>\n",
       "      <td>111298.00000</td>\n",
       "      <td>29.00000</td>\n",
       "    </tr>\n",
       "    <tr>\n",
       "      <th>75%</th>\n",
       "      <td>116658.00000</td>\n",
       "      <td>41.00000</td>\n",
       "    </tr>\n",
       "    <tr>\n",
       "      <th>max</th>\n",
       "      <td>148988.00000</td>\n",
       "      <td>57.00000</td>\n",
       "    </tr>\n",
       "  </tbody>\n",
       "</table>\n",
       "</div>"
      ],
      "text/plain": [
       "       employee_id         age\n",
       "count  14245.00000 14245.00000\n",
       "mean  112123.05054    32.88993\n",
       "std     8500.45734     9.97083\n",
       "min   100101.00000    22.00000\n",
       "25%   105775.00000    24.00000\n",
       "50%   111298.00000    29.00000\n",
       "75%   116658.00000    41.00000\n",
       "max   148988.00000    57.00000"
      ]
     },
     "execution_count": 11,
     "metadata": {},
     "output_type": "execute_result"
    }
   ],
   "source": [
    "emp_det_df.describe()"
   ]
  },
  {
   "cell_type": "markdown",
   "id": "76f2ee15",
   "metadata": {},
   "source": [
    "**<font color=#196F3D>Observations for employee_details_data:**\n",
    "\n",
    "- <i>dept_df dataset is of **shape (14245 , 4)**\n",
    "- <i>No rows have missing values\n",
    "- <i>**2 Features** employee_id and age are of **int Type**\n",
    "- <i>**2 Features** gender and marital_status are of **Object type**\n",
    "- <i>Employee as young as 22 years and as old as 57 years have worked with an average age of 32 years.\n"
   ]
  },
  {
   "cell_type": "markdown",
   "id": "df5cd759",
   "metadata": {},
   "source": [
    "### 3. employee_data: emp_df"
   ]
  },
  {
   "cell_type": "code",
   "execution_count": 12,
   "id": "7ec5929e",
   "metadata": {},
   "outputs": [
    {
     "data": {
      "text/html": [
       "<div>\n",
       "<style scoped>\n",
       "    .dataframe tbody tr th:only-of-type {\n",
       "        vertical-align: middle;\n",
       "    }\n",
       "\n",
       "    .dataframe tbody tr th {\n",
       "        vertical-align: top;\n",
       "    }\n",
       "\n",
       "    .dataframe thead th {\n",
       "        text-align: right;\n",
       "    }\n",
       "</style>\n",
       "<table border=\"1\" class=\"dataframe\">\n",
       "  <thead>\n",
       "    <tr style=\"text-align: right;\">\n",
       "      <th></th>\n",
       "      <th>avg_monthly_hrs</th>\n",
       "      <th>department</th>\n",
       "      <th>filed_complaint</th>\n",
       "      <th>last_evaluation</th>\n",
       "      <th>n_projects</th>\n",
       "      <th>recently_promoted</th>\n",
       "      <th>salary</th>\n",
       "      <th>satisfaction</th>\n",
       "      <th>status</th>\n",
       "      <th>tenure</th>\n",
       "      <th>employee_id</th>\n",
       "    </tr>\n",
       "  </thead>\n",
       "  <tbody>\n",
       "    <tr>\n",
       "      <th>0</th>\n",
       "      <td>246.00000</td>\n",
       "      <td>None</td>\n",
       "      <td>NaN</td>\n",
       "      <td>0.86684</td>\n",
       "      <td>6</td>\n",
       "      <td>NaN</td>\n",
       "      <td>medium</td>\n",
       "      <td>0.13442</td>\n",
       "      <td>Left</td>\n",
       "      <td>4.00000</td>\n",
       "      <td>124467</td>\n",
       "    </tr>\n",
       "    <tr>\n",
       "      <th>1</th>\n",
       "      <td>134.00000</td>\n",
       "      <td>None</td>\n",
       "      <td>NaN</td>\n",
       "      <td>0.55572</td>\n",
       "      <td>2</td>\n",
       "      <td>NaN</td>\n",
       "      <td>low</td>\n",
       "      <td>0.51104</td>\n",
       "      <td>Left</td>\n",
       "      <td>3.00000</td>\n",
       "      <td>112210</td>\n",
       "    </tr>\n",
       "    <tr>\n",
       "      <th>2</th>\n",
       "      <td>156.00000</td>\n",
       "      <td>D00-SS</td>\n",
       "      <td>1.00000</td>\n",
       "      <td>0.47408</td>\n",
       "      <td>2</td>\n",
       "      <td>NaN</td>\n",
       "      <td>medium</td>\n",
       "      <td>0.40510</td>\n",
       "      <td>Left</td>\n",
       "      <td>3.00000</td>\n",
       "      <td>126150</td>\n",
       "    </tr>\n",
       "    <tr>\n",
       "      <th>3</th>\n",
       "      <td>256.00000</td>\n",
       "      <td>D00-SP</td>\n",
       "      <td>NaN</td>\n",
       "      <td>0.96136</td>\n",
       "      <td>6</td>\n",
       "      <td>NaN</td>\n",
       "      <td>low</td>\n",
       "      <td>0.15297</td>\n",
       "      <td>Left</td>\n",
       "      <td>4.00000</td>\n",
       "      <td>125346</td>\n",
       "    </tr>\n",
       "    <tr>\n",
       "      <th>4</th>\n",
       "      <td>146.00000</td>\n",
       "      <td>D00-SS</td>\n",
       "      <td>NaN</td>\n",
       "      <td>0.50735</td>\n",
       "      <td>2</td>\n",
       "      <td>NaN</td>\n",
       "      <td>medium</td>\n",
       "      <td>0.43484</td>\n",
       "      <td>Left</td>\n",
       "      <td>3.00000</td>\n",
       "      <td>113707</td>\n",
       "    </tr>\n",
       "  </tbody>\n",
       "</table>\n",
       "</div>"
      ],
      "text/plain": [
       "   avg_monthly_hrs department  filed_complaint  last_evaluation  n_projects  \\\n",
       "0        246.00000       None              NaN          0.86684           6   \n",
       "1        134.00000       None              NaN          0.55572           2   \n",
       "2        156.00000     D00-SS          1.00000          0.47408           2   \n",
       "3        256.00000     D00-SP              NaN          0.96136           6   \n",
       "4        146.00000     D00-SS              NaN          0.50735           2   \n",
       "\n",
       "   recently_promoted  salary  satisfaction status  tenure  employee_id  \n",
       "0                NaN  medium       0.13442   Left 4.00000       124467  \n",
       "1                NaN     low       0.51104   Left 3.00000       112210  \n",
       "2                NaN  medium       0.40510   Left 3.00000       126150  \n",
       "3                NaN     low       0.15297   Left 4.00000       125346  \n",
       "4                NaN  medium       0.43484   Left 3.00000       113707  "
      ]
     },
     "execution_count": 12,
     "metadata": {},
     "output_type": "execute_result"
    }
   ],
   "source": [
    "emp_df.head()"
   ]
  },
  {
   "cell_type": "code",
   "execution_count": 13,
   "id": "cd7c2b49",
   "metadata": {},
   "outputs": [
    {
     "name": "stdout",
     "output_type": "stream",
     "text": [
      "<class 'pandas.core.frame.DataFrame'>\n",
      "RangeIndex: 14150 entries, 0 to 14149\n",
      "Data columns (total 11 columns):\n",
      " #   Column             Non-Null Count  Dtype  \n",
      "---  ------             --------------  -----  \n",
      " 0   avg_monthly_hrs    14150 non-null  float64\n",
      " 1   department         13443 non-null  object \n",
      " 2   filed_complaint    2046 non-null   float64\n",
      " 3   last_evaluation    12663 non-null  float64\n",
      " 4   n_projects         14150 non-null  int64  \n",
      " 5   recently_promoted  297 non-null    float64\n",
      " 6   salary             14150 non-null  object \n",
      " 7   satisfaction       14000 non-null  float64\n",
      " 8   status             14150 non-null  object \n",
      " 9   tenure             14000 non-null  float64\n",
      " 10  employee_id        14150 non-null  int64  \n",
      "dtypes: float64(6), int64(2), object(3)\n",
      "memory usage: 1.2+ MB\n"
     ]
    }
   ],
   "source": [
    "emp_df.info()"
   ]
  },
  {
   "cell_type": "code",
   "execution_count": 14,
   "id": "d31101fd",
   "metadata": {},
   "outputs": [
    {
     "data": {
      "text/html": [
       "<div>\n",
       "<style scoped>\n",
       "    .dataframe tbody tr th:only-of-type {\n",
       "        vertical-align: middle;\n",
       "    }\n",
       "\n",
       "    .dataframe tbody tr th {\n",
       "        vertical-align: top;\n",
       "    }\n",
       "\n",
       "    .dataframe thead th {\n",
       "        text-align: right;\n",
       "    }\n",
       "</style>\n",
       "<table border=\"1\" class=\"dataframe\">\n",
       "  <thead>\n",
       "    <tr style=\"text-align: right;\">\n",
       "      <th></th>\n",
       "      <th>avg_monthly_hrs</th>\n",
       "      <th>filed_complaint</th>\n",
       "      <th>last_evaluation</th>\n",
       "      <th>n_projects</th>\n",
       "      <th>recently_promoted</th>\n",
       "      <th>satisfaction</th>\n",
       "      <th>tenure</th>\n",
       "      <th>employee_id</th>\n",
       "    </tr>\n",
       "  </thead>\n",
       "  <tbody>\n",
       "    <tr>\n",
       "      <th>count</th>\n",
       "      <td>14150.00000</td>\n",
       "      <td>2046.00000</td>\n",
       "      <td>12663.00000</td>\n",
       "      <td>14150.00000</td>\n",
       "      <td>297.00000</td>\n",
       "      <td>14000.00000</td>\n",
       "      <td>14000.00000</td>\n",
       "      <td>14150.00000</td>\n",
       "    </tr>\n",
       "    <tr>\n",
       "      <th>mean</th>\n",
       "      <td>199.99435</td>\n",
       "      <td>1.00000</td>\n",
       "      <td>0.71840</td>\n",
       "      <td>3.77830</td>\n",
       "      <td>1.00000</td>\n",
       "      <td>0.62121</td>\n",
       "      <td>3.49936</td>\n",
       "      <td>112080.75025</td>\n",
       "    </tr>\n",
       "    <tr>\n",
       "      <th>std</th>\n",
       "      <td>50.83370</td>\n",
       "      <td>0.00000</td>\n",
       "      <td>0.17311</td>\n",
       "      <td>1.25016</td>\n",
       "      <td>0.00000</td>\n",
       "      <td>0.25048</td>\n",
       "      <td>1.46258</td>\n",
       "      <td>8748.20286</td>\n",
       "    </tr>\n",
       "    <tr>\n",
       "      <th>min</th>\n",
       "      <td>49.00000</td>\n",
       "      <td>1.00000</td>\n",
       "      <td>0.31617</td>\n",
       "      <td>1.00000</td>\n",
       "      <td>1.00000</td>\n",
       "      <td>0.04006</td>\n",
       "      <td>2.00000</td>\n",
       "      <td>0.00000</td>\n",
       "    </tr>\n",
       "    <tr>\n",
       "      <th>25%</th>\n",
       "      <td>155.00000</td>\n",
       "      <td>1.00000</td>\n",
       "      <td>0.56371</td>\n",
       "      <td>3.00000</td>\n",
       "      <td>1.00000</td>\n",
       "      <td>0.45036</td>\n",
       "      <td>3.00000</td>\n",
       "      <td>105772.50000</td>\n",
       "    </tr>\n",
       "    <tr>\n",
       "      <th>50%</th>\n",
       "      <td>199.00000</td>\n",
       "      <td>1.00000</td>\n",
       "      <td>0.72473</td>\n",
       "      <td>4.00000</td>\n",
       "      <td>1.00000</td>\n",
       "      <td>0.65239</td>\n",
       "      <td>3.00000</td>\n",
       "      <td>111291.50000</td>\n",
       "    </tr>\n",
       "    <tr>\n",
       "      <th>75%</th>\n",
       "      <td>245.00000</td>\n",
       "      <td>1.00000</td>\n",
       "      <td>0.87141</td>\n",
       "      <td>5.00000</td>\n",
       "      <td>1.00000</td>\n",
       "      <td>0.82493</td>\n",
       "      <td>4.00000</td>\n",
       "      <td>116650.75000</td>\n",
       "    </tr>\n",
       "    <tr>\n",
       "      <th>max</th>\n",
       "      <td>310.00000</td>\n",
       "      <td>1.00000</td>\n",
       "      <td>1.00000</td>\n",
       "      <td>7.00000</td>\n",
       "      <td>1.00000</td>\n",
       "      <td>1.00000</td>\n",
       "      <td>10.00000</td>\n",
       "      <td>148988.00000</td>\n",
       "    </tr>\n",
       "  </tbody>\n",
       "</table>\n",
       "</div>"
      ],
      "text/plain": [
       "       avg_monthly_hrs  filed_complaint  last_evaluation  n_projects  \\\n",
       "count      14150.00000       2046.00000      12663.00000 14150.00000   \n",
       "mean         199.99435          1.00000          0.71840     3.77830   \n",
       "std           50.83370          0.00000          0.17311     1.25016   \n",
       "min           49.00000          1.00000          0.31617     1.00000   \n",
       "25%          155.00000          1.00000          0.56371     3.00000   \n",
       "50%          199.00000          1.00000          0.72473     4.00000   \n",
       "75%          245.00000          1.00000          0.87141     5.00000   \n",
       "max          310.00000          1.00000          1.00000     7.00000   \n",
       "\n",
       "       recently_promoted  satisfaction      tenure  employee_id  \n",
       "count          297.00000   14000.00000 14000.00000  14150.00000  \n",
       "mean             1.00000       0.62121     3.49936 112080.75025  \n",
       "std              0.00000       0.25048     1.46258   8748.20286  \n",
       "min              1.00000       0.04006     2.00000      0.00000  \n",
       "25%              1.00000       0.45036     3.00000 105772.50000  \n",
       "50%              1.00000       0.65239     3.00000 111291.50000  \n",
       "75%              1.00000       0.82493     4.00000 116650.75000  \n",
       "max              1.00000       1.00000    10.00000 148988.00000  "
      ]
     },
     "execution_count": 14,
     "metadata": {},
     "output_type": "execute_result"
    }
   ],
   "source": [
    "emp_df.describe()"
   ]
  },
  {
   "cell_type": "code",
   "execution_count": 15,
   "id": "b52e6201",
   "metadata": {},
   "outputs": [
    {
     "data": {
      "text/plain": [
       "avg_monthly_hrs     0.00000\n",
       "department          0.04996\n",
       "filed_complaint     0.85541\n",
       "last_evaluation     0.10509\n",
       "n_projects          0.00000\n",
       "recently_promoted   0.97901\n",
       "salary              0.00000\n",
       "satisfaction        0.01060\n",
       "status              0.00000\n",
       "tenure              0.01060\n",
       "employee_id         0.00000\n",
       "dtype: float64"
      ]
     },
     "execution_count": 15,
     "metadata": {},
     "output_type": "execute_result"
    }
   ],
   "source": [
    "emp_df.isnull().mean()"
   ]
  },
  {
   "cell_type": "markdown",
   "id": "1ea0ff65",
   "metadata": {},
   "source": [
    "**<font color=#196F3D>Observations for employee_data**\n",
    "    \n",
    "**Missing Values Percentage**\n",
    "- <i>dept_df dataset is of **shape (14150 , 11)**\n",
    "- <i>**tenure**  and **satisfaction** columns have around **1% missing values**\n",
    "- <i>**department column** has approx. **5% missing values**\n",
    "- <i>**last_evaluation column** has **10% missing values**\n",
    "- <i>**filed_complaint column** has approx. **85% missing values**\n",
    "- <i>**recently_promoted column** has approx. **97% missing values**\n",
    "\n",
    "- **6 Features** avg_monthly_hrs,filed_complaint,last_evaluation, recently_promoted ,satisfaction, tenure are of continous type\n",
    "- <i>**2 Features** n_projects ,employee_id are of Discrete Type\n",
    "- <i>**3 Features** department, status, salary are of Categorical Types\n"
   ]
  },
  {
   "cell_type": "markdown",
   "id": "ac9a0679",
   "metadata": {},
   "source": [
    "---\n",
    "<a name = Section5></a>\n",
    "# **5. Data Pre-Processing**\n",
    "---\n"
   ]
  },
  {
   "cell_type": "markdown",
   "id": "01f3d72d",
   "metadata": {},
   "source": [
    "<a name = Section51></a>\n",
    "### **5.1 Data Pre-Profiling** [Before Merging the 3 Dtasets]\n",
    "\n",
    "- For **quick analysis** pandas profiling is very handy.\n",
    "\n",
    "- It generates profile reports from a pandas DataFrame.\n",
    "\n",
    "- For each feature **statistics** are presented in an interactive HTML report."
   ]
  },
  {
   "cell_type": "code",
   "execution_count": 16,
   "id": "1e232449",
   "metadata": {},
   "outputs": [
    {
     "data": {
      "application/vnd.jupyter.widget-view+json": {
       "model_id": "c36afbd759e349ccb089c3062563fb7c",
       "version_major": 2,
       "version_minor": 0
      },
      "text/plain": [
       "Summarize dataset:   0%|          | 0/5 [00:00<?, ?it/s]"
      ]
     },
     "metadata": {},
     "output_type": "display_data"
    },
    {
     "data": {
      "application/vnd.jupyter.widget-view+json": {
       "model_id": "902063b9b87d46f8a57c2c9010ed57da",
       "version_major": 2,
       "version_minor": 0
      },
      "text/plain": [
       "Generate report structure:   0%|          | 0/1 [00:00<?, ?it/s]"
      ]
     },
     "metadata": {},
     "output_type": "display_data"
    },
    {
     "data": {
      "application/vnd.jupyter.widget-view+json": {
       "model_id": "e93e4456e70f435a8b9f3a6f5c7fa2b7",
       "version_major": 2,
       "version_minor": 0
      },
      "text/plain": [
       "Render HTML:   0%|          | 0/1 [00:00<?, ?it/s]"
      ]
     },
     "metadata": {},
     "output_type": "display_data"
    },
    {
     "data": {
      "application/vnd.jupyter.widget-view+json": {
       "model_id": "813a9f174b304d23bac8d80ba4b96531",
       "version_major": 2,
       "version_minor": 0
      },
      "text/plain": [
       "Export report to file:   0%|          | 0/1 [00:00<?, ?it/s]"
      ]
     },
     "metadata": {},
     "output_type": "display_data"
    },
    {
     "name": "stdout",
     "output_type": "stream",
     "text": [
      "Accomplished!\n"
     ]
    }
   ],
   "source": [
    "profile = ProfileReport(df=dept_df)\n",
    "profile.to_file(output_file='PreProfReport_Dept.html')\n",
    "print('Accomplished!')"
   ]
  },
  {
   "cell_type": "code",
   "execution_count": 17,
   "id": "e5157874",
   "metadata": {},
   "outputs": [
    {
     "data": {
      "application/vnd.jupyter.widget-view+json": {
       "model_id": "8c3773b8fa0e4d2eb4855b07a94d0bbd",
       "version_major": 2,
       "version_minor": 0
      },
      "text/plain": [
       "Summarize dataset:   0%|          | 0/5 [00:00<?, ?it/s]"
      ]
     },
     "metadata": {},
     "output_type": "display_data"
    },
    {
     "data": {
      "application/vnd.jupyter.widget-view+json": {
       "model_id": "aaf301d9cb904c67ae5d41183357a981",
       "version_major": 2,
       "version_minor": 0
      },
      "text/plain": [
       "Generate report structure:   0%|          | 0/1 [00:00<?, ?it/s]"
      ]
     },
     "metadata": {},
     "output_type": "display_data"
    },
    {
     "data": {
      "application/vnd.jupyter.widget-view+json": {
       "model_id": "25c8ee0eef604232a379d0255eeb0d27",
       "version_major": 2,
       "version_minor": 0
      },
      "text/plain": [
       "Render HTML:   0%|          | 0/1 [00:00<?, ?it/s]"
      ]
     },
     "metadata": {},
     "output_type": "display_data"
    },
    {
     "data": {
      "application/vnd.jupyter.widget-view+json": {
       "model_id": "42b05a2d111f426d9ff5015f304c0c3c",
       "version_major": 2,
       "version_minor": 0
      },
      "text/plain": [
       "Export report to file:   0%|          | 0/1 [00:00<?, ?it/s]"
      ]
     },
     "metadata": {},
     "output_type": "display_data"
    },
    {
     "name": "stdout",
     "output_type": "stream",
     "text": [
      "Accomplished!\n"
     ]
    }
   ],
   "source": [
    "profile = ProfileReport(df=emp_det_df)\n",
    "profile.to_file(output_file='PreProfReport_EmpDet.html')\n",
    "print('Accomplished!')"
   ]
  },
  {
   "cell_type": "code",
   "execution_count": 18,
   "id": "b5911daf",
   "metadata": {},
   "outputs": [
    {
     "data": {
      "application/vnd.jupyter.widget-view+json": {
       "model_id": "5f49222332a6498f910a228e99f7853f",
       "version_major": 2,
       "version_minor": 0
      },
      "text/plain": [
       "Summarize dataset:   0%|          | 0/5 [00:00<?, ?it/s]"
      ]
     },
     "metadata": {},
     "output_type": "display_data"
    },
    {
     "data": {
      "application/vnd.jupyter.widget-view+json": {
       "model_id": "2d0f489d84f645b69501cc9668722fc1",
       "version_major": 2,
       "version_minor": 0
      },
      "text/plain": [
       "Generate report structure:   0%|          | 0/1 [00:00<?, ?it/s]"
      ]
     },
     "metadata": {},
     "output_type": "display_data"
    },
    {
     "data": {
      "application/vnd.jupyter.widget-view+json": {
       "model_id": "17cfc2cfd4e44fba9e0a4f4744b822d0",
       "version_major": 2,
       "version_minor": 0
      },
      "text/plain": [
       "Render HTML:   0%|          | 0/1 [00:00<?, ?it/s]"
      ]
     },
     "metadata": {},
     "output_type": "display_data"
    },
    {
     "data": {
      "application/vnd.jupyter.widget-view+json": {
       "model_id": "63ae0acfda19421baa191c76331050d1",
       "version_major": 2,
       "version_minor": 0
      },
      "text/plain": [
       "Export report to file:   0%|          | 0/1 [00:00<?, ?it/s]"
      ]
     },
     "metadata": {},
     "output_type": "display_data"
    },
    {
     "name": "stdout",
     "output_type": "stream",
     "text": [
      "Accomplished!\n"
     ]
    }
   ],
   "source": [
    "profile = ProfileReport(df=emp_df)\n",
    "profile.to_file(output_file='PreProfReport_Emp.html')\n",
    "print('Accomplished!')"
   ]
  },
  {
   "cell_type": "markdown",
   "id": "00e6040e",
   "metadata": {},
   "source": [
    "<a name = Section52></a>\n",
    "### **5.2 Data Cleaning**\n",
    "\n",
    "- In this section, we will **remove** the **duplicate row** present in the dataset."
   ]
  },
  {
   "cell_type": "markdown",
   "id": "9fab1d95",
   "metadata": {},
   "source": [
    "<a name = Section521></a>\n",
    "#### **5.2.1 Check for Duplicate Rows**"
   ]
  },
  {
   "cell_type": "code",
   "execution_count": 19,
   "id": "48649abe",
   "metadata": {},
   "outputs": [
    {
     "data": {
      "text/html": [
       "<div>\n",
       "<style scoped>\n",
       "    .dataframe tbody tr th:only-of-type {\n",
       "        vertical-align: middle;\n",
       "    }\n",
       "\n",
       "    .dataframe tbody tr th {\n",
       "        vertical-align: top;\n",
       "    }\n",
       "\n",
       "    .dataframe thead th {\n",
       "        text-align: right;\n",
       "    }\n",
       "</style>\n",
       "<table border=\"1\" class=\"dataframe\">\n",
       "  <thead>\n",
       "    <tr style=\"text-align: right;\">\n",
       "      <th></th>\n",
       "      <th>dept_id</th>\n",
       "      <th>dept_name</th>\n",
       "      <th>dept_head</th>\n",
       "    </tr>\n",
       "  </thead>\n",
       "  <tbody>\n",
       "  </tbody>\n",
       "</table>\n",
       "</div>"
      ],
      "text/plain": [
       "Empty DataFrame\n",
       "Columns: [dept_id, dept_name, dept_head]\n",
       "Index: []"
      ]
     },
     "execution_count": 19,
     "metadata": {},
     "output_type": "execute_result"
    }
   ],
   "source": [
    "dept_df[dept_df.duplicated()]"
   ]
  },
  {
   "cell_type": "code",
   "execution_count": 20,
   "id": "99228075",
   "metadata": {},
   "outputs": [
    {
     "data": {
      "text/html": [
       "<div>\n",
       "<style scoped>\n",
       "    .dataframe tbody tr th:only-of-type {\n",
       "        vertical-align: middle;\n",
       "    }\n",
       "\n",
       "    .dataframe tbody tr th {\n",
       "        vertical-align: top;\n",
       "    }\n",
       "\n",
       "    .dataframe thead th {\n",
       "        text-align: right;\n",
       "    }\n",
       "</style>\n",
       "<table border=\"1\" class=\"dataframe\">\n",
       "  <thead>\n",
       "    <tr style=\"text-align: right;\">\n",
       "      <th></th>\n",
       "      <th>employee_id</th>\n",
       "      <th>age</th>\n",
       "      <th>gender</th>\n",
       "      <th>marital_status</th>\n",
       "    </tr>\n",
       "  </thead>\n",
       "  <tbody>\n",
       "  </tbody>\n",
       "</table>\n",
       "</div>"
      ],
      "text/plain": [
       "Empty DataFrame\n",
       "Columns: [employee_id, age, gender, marital_status]\n",
       "Index: []"
      ]
     },
     "execution_count": 20,
     "metadata": {},
     "output_type": "execute_result"
    }
   ],
   "source": [
    "emp_det_df[emp_det_df.duplicated()]"
   ]
  },
  {
   "cell_type": "code",
   "execution_count": 21,
   "id": "3011544d",
   "metadata": {},
   "outputs": [
    {
     "data": {
      "text/plain": [
       "avg_monthly_hrs      29\n",
       "department           29\n",
       "filed_complaint       5\n",
       "last_evaluation      29\n",
       "n_projects           29\n",
       "recently_promoted     0\n",
       "salary               29\n",
       "satisfaction         29\n",
       "status               29\n",
       "tenure               29\n",
       "employee_id          29\n",
       "dtype: int64"
      ]
     },
     "execution_count": 21,
     "metadata": {},
     "output_type": "execute_result"
    }
   ],
   "source": [
    "dup=emp_df[emp_df.duplicated()]\n",
    "dup.count()\n"
   ]
  },
  {
   "cell_type": "code",
   "execution_count": 22,
   "id": "fb8ad744",
   "metadata": {},
   "outputs": [
    {
     "data": {
      "text/plain": [
       "33"
      ]
     },
     "execution_count": 22,
     "metadata": {},
     "output_type": "execute_result"
    }
   ],
   "source": [
    "emp_df['employee_id'].duplicated().sum()\n"
   ]
  },
  {
   "cell_type": "markdown",
   "id": "d7386b31",
   "metadata": {},
   "source": [
    "**<font color=#196F3D>Observations for Employee Dataset: emp_df**\n",
    "- <i> **29 rows** are **Duplicate**\n",
    "- <i> **5 Employee ids** have **zero value**\n"
   ]
  },
  {
   "cell_type": "markdown",
   "id": "e81d187b",
   "metadata": {},
   "source": [
    "<a name = Section522></a>\n",
    "#### **5.2.2 Drop Duplicate Rows**"
   ]
  },
  {
   "cell_type": "code",
   "execution_count": 23,
   "id": "52926305",
   "metadata": {},
   "outputs": [],
   "source": [
    "## Function Definition to drop duplicate values\n",
    "# -----------------------------------------------------------\n",
    "def drop_duplicate(df):\n",
    "    df.drop_duplicates(inplace=True)\n",
    "    \n",
    "    get_index=df[df['employee_id']==0].index\n",
    "    df.drop(get_index, inplace=True)\n",
    "    return df"
   ]
  },
  {
   "cell_type": "code",
   "execution_count": 24,
   "id": "d387b902",
   "metadata": {},
   "outputs": [],
   "source": [
    "# Calling drop_duplicate(df) function to drop duplicates\n",
    "# -----------------------------------------------------------\n",
    "emp_df_unique=drop_duplicate(emp_df)"
   ]
  },
  {
   "cell_type": "code",
   "execution_count": 25,
   "id": "e8ae08d0",
   "metadata": {},
   "outputs": [
    {
     "data": {
      "text/html": [
       "<div>\n",
       "<style scoped>\n",
       "    .dataframe tbody tr th:only-of-type {\n",
       "        vertical-align: middle;\n",
       "    }\n",
       "\n",
       "    .dataframe tbody tr th {\n",
       "        vertical-align: top;\n",
       "    }\n",
       "\n",
       "    .dataframe thead th {\n",
       "        text-align: right;\n",
       "    }\n",
       "</style>\n",
       "<table border=\"1\" class=\"dataframe\">\n",
       "  <thead>\n",
       "    <tr style=\"text-align: right;\">\n",
       "      <th></th>\n",
       "      <th>avg_monthly_hrs</th>\n",
       "      <th>department</th>\n",
       "      <th>filed_complaint</th>\n",
       "      <th>last_evaluation</th>\n",
       "      <th>n_projects</th>\n",
       "      <th>recently_promoted</th>\n",
       "      <th>salary</th>\n",
       "      <th>satisfaction</th>\n",
       "      <th>status</th>\n",
       "      <th>tenure</th>\n",
       "      <th>employee_id</th>\n",
       "    </tr>\n",
       "  </thead>\n",
       "  <tbody>\n",
       "  </tbody>\n",
       "</table>\n",
       "</div>"
      ],
      "text/plain": [
       "Empty DataFrame\n",
       "Columns: [avg_monthly_hrs, department, filed_complaint, last_evaluation, n_projects, recently_promoted, salary, satisfaction, status, tenure, employee_id]\n",
       "Index: []"
      ]
     },
     "execution_count": 25,
     "metadata": {},
     "output_type": "execute_result"
    }
   ],
   "source": [
    "# Verifying if any Duplicate Values. All values have been removed\n",
    "emp_df_unique[emp_df_unique.employee_id.duplicated()]"
   ]
  },
  {
   "cell_type": "markdown",
   "id": "d3681a1e",
   "metadata": {},
   "source": [
    "<a name = Section523></a>\n",
    "#### **5.2.3 Identify Data Inconsistencies if any in Categorical features of the 3 datasets**"
   ]
  },
  {
   "cell_type": "code",
   "execution_count": 26,
   "id": "cfa267df",
   "metadata": {},
   "outputs": [
    {
     "data": {
      "text/plain": [
       "D00-IT     1\n",
       "D00-SS     1\n",
       "D00-TP     1\n",
       "D00-ENG    1\n",
       "D00-SP     1\n",
       "D00-FN     1\n",
       "D00-PR     1\n",
       "D00-AD     1\n",
       "D00-MN     1\n",
       "D00-MT     1\n",
       "D00-PD     1\n",
       "Name: dept_id, dtype: int64"
      ]
     },
     "execution_count": 26,
     "metadata": {},
     "output_type": "execute_result"
    }
   ],
   "source": [
    "# Department id for Department Dataset\n",
    "dept_df['dept_id'].value_counts()"
   ]
  },
  {
   "cell_type": "code",
   "execution_count": 27,
   "id": "54fa912e",
   "metadata": {},
   "outputs": [
    {
     "data": {
      "text/plain": [
       "Male      9382\n",
       "Female    4863\n",
       "Name: gender, dtype: int64"
      ]
     },
     "execution_count": 27,
     "metadata": {},
     "output_type": "execute_result"
    }
   ],
   "source": [
    "# Gender for emplojyee_details Dataset\n",
    "emp_det_df['gender'].value_counts()"
   ]
  },
  {
   "cell_type": "code",
   "execution_count": 28,
   "id": "495703e6",
   "metadata": {},
   "outputs": [
    {
     "data": {
      "text/plain": [
       "Unmarried    7283\n",
       "Married      6962\n",
       "Name: marital_status, dtype: int64"
      ]
     },
     "execution_count": 28,
     "metadata": {},
     "output_type": "execute_result"
    }
   ],
   "source": [
    "# marital_status for emplojyee_details Dataset\n",
    "emp_det_df['marital_status'].value_counts()"
   ]
  },
  {
   "cell_type": "code",
   "execution_count": 29,
   "id": "d5fb212c",
   "metadata": {},
   "outputs": [
    {
     "data": {
      "text/plain": [
       "D00-SS     3895\n",
       "D00-ENG    2573\n",
       "D00-SP     2108\n",
       "D00-IT     1152\n",
       "D00-PD      853\n",
       "D00-MT      812\n",
       "D00-FN      722\n",
       "D00-MN      590\n",
       "-IT         207\n",
       "D00-AD      175\n",
       "D00-PR      173\n",
       "D00-TP      150\n",
       "Name: department, dtype: int64"
      ]
     },
     "execution_count": 29,
     "metadata": {},
     "output_type": "execute_result"
    }
   ],
   "source": [
    "# department for employee_data Dataset\n",
    "emp_df_unique['department'].value_counts()"
   ]
  },
  {
   "cell_type": "markdown",
   "id": "b09b3724",
   "metadata": {},
   "source": [
    "**<font color=#196F3D>Observations**\n",
    "- <i>**IT has to be replaced with DOO-IT**"
   ]
  },
  {
   "cell_type": "code",
   "execution_count": 30,
   "id": "26dbda30",
   "metadata": {},
   "outputs": [
    {
     "data": {
      "text/plain": [
       "Employed    10761\n",
       "Left         3355\n",
       "Name: status, dtype: int64"
      ]
     },
     "execution_count": 30,
     "metadata": {},
     "output_type": "execute_result"
    }
   ],
   "source": [
    "# department for status Dataset\n",
    "emp_df_unique['status'].value_counts()"
   ]
  },
  {
   "cell_type": "markdown",
   "id": "69538d5d",
   "metadata": {},
   "source": [
    "<a name = Section524></a>\n",
    "#### **5.2.4 Handling Inconsistencies**"
   ]
  },
  {
   "cell_type": "code",
   "execution_count": 31,
   "id": "280df488",
   "metadata": {},
   "outputs": [],
   "source": [
    "emp_df_unique['department'].replace('-IT','D00-IT', inplace=True)"
   ]
  },
  {
   "cell_type": "markdown",
   "id": "62892970",
   "metadata": {},
   "source": [
    "- Handled Duplicate Values and Employee ids with '0' value \n",
    "- Department column has -IT. It has replaced with D00-IT"
   ]
  },
  {
   "cell_type": "markdown",
   "id": "6eafa6f3",
   "metadata": {},
   "source": [
    "\n",
    "\n",
    "\n",
    "\n",
    "<a name = Section53></a>\n",
    "### **5.3 Data Merging and Cleaning**\n"
   ]
  },
  {
   "cell_type": "markdown",
   "id": "2c6b2fdf",
   "metadata": {},
   "source": [
    "<a name = Section531></a>\n",
    "#### **5.3.1 Merging** the **3 Datasets**"
   ]
  },
  {
   "cell_type": "markdown",
   "id": "2a0e6ace",
   "metadata": {},
   "source": [
    "- Merging employee_details dataset and employee_data datasets"
   ]
  },
  {
   "cell_type": "code",
   "execution_count": 32,
   "id": "52a721e8",
   "metadata": {},
   "outputs": [],
   "source": [
    "# Merging employee_details dataset and employee_data datasets\n",
    "new_df=emp_det_df.merge(emp_df_unique,on='employee_id' ,how='right')"
   ]
  },
  {
   "cell_type": "code",
   "execution_count": 33,
   "id": "ad3571ad",
   "metadata": {},
   "outputs": [
    {
     "data": {
      "text/plain": [
       "(14116, 14)"
      ]
     },
     "execution_count": 33,
     "metadata": {},
     "output_type": "execute_result"
    }
   ],
   "source": [
    "new_df.shape"
   ]
  },
  {
   "cell_type": "markdown",
   "id": "d6812555",
   "metadata": {},
   "source": [
    "- Merging new_df (from above) and department_data "
   ]
  },
  {
   "cell_type": "code",
   "execution_count": 34,
   "id": "00178449",
   "metadata": {},
   "outputs": [],
   "source": [
    "# Merging new_df(employee_details and employee_data) dataset and department_data datasets\n",
    "merged_df=new_df.merge(dept_df,left_on='department', right_on='dept_id', how='left')"
   ]
  },
  {
   "cell_type": "code",
   "execution_count": 35,
   "id": "fd44d909",
   "metadata": {},
   "outputs": [
    {
     "data": {
      "text/plain": [
       "(14116, 17)"
      ]
     },
     "execution_count": 35,
     "metadata": {},
     "output_type": "execute_result"
    }
   ],
   "source": [
    "merged_df.shape"
   ]
  },
  {
   "cell_type": "code",
   "execution_count": 36,
   "id": "faf0caf5",
   "metadata": {},
   "outputs": [
    {
     "name": "stdout",
     "output_type": "stream",
     "text": [
      "<class 'pandas.core.frame.DataFrame'>\n",
      "Int64Index: 14116 entries, 0 to 14115\n",
      "Data columns (total 17 columns):\n",
      " #   Column             Non-Null Count  Dtype  \n",
      "---  ------             --------------  -----  \n",
      " 0   employee_id        14116 non-null  int64  \n",
      " 1   age                14116 non-null  int64  \n",
      " 2   gender             14116 non-null  object \n",
      " 3   marital_status     14116 non-null  object \n",
      " 4   avg_monthly_hrs    14116 non-null  float64\n",
      " 5   department         13410 non-null  object \n",
      " 6   filed_complaint    2041 non-null   float64\n",
      " 7   last_evaluation    12629 non-null  float64\n",
      " 8   n_projects         14116 non-null  int64  \n",
      " 9   recently_promoted  297 non-null    float64\n",
      " 10  salary             14116 non-null  object \n",
      " 11  satisfaction       13966 non-null  float64\n",
      " 12  status             14116 non-null  object \n",
      " 13  tenure             13966 non-null  float64\n",
      " 14  dept_id            13410 non-null  object \n",
      " 15  dept_name          13410 non-null  object \n",
      " 16  dept_head          13410 non-null  object \n",
      "dtypes: float64(6), int64(3), object(8)\n",
      "memory usage: 1.9+ MB\n"
     ]
    }
   ],
   "source": [
    "merged_df.info()"
   ]
  },
  {
   "cell_type": "code",
   "execution_count": 37,
   "id": "223aea28",
   "metadata": {},
   "outputs": [
    {
     "data": {
      "text/plain": [
       "employee_id              0\n",
       "age                      0\n",
       "gender                   0\n",
       "marital_status           0\n",
       "avg_monthly_hrs          0\n",
       "department             706\n",
       "filed_complaint      12075\n",
       "last_evaluation       1487\n",
       "n_projects               0\n",
       "recently_promoted    13819\n",
       "salary                   0\n",
       "satisfaction           150\n",
       "status                   0\n",
       "tenure                 150\n",
       "dept_id                706\n",
       "dept_name              706\n",
       "dept_head              706\n",
       "dtype: int64"
      ]
     },
     "execution_count": 37,
     "metadata": {},
     "output_type": "execute_result"
    }
   ],
   "source": [
    "merged_df.isnull().sum()"
   ]
  },
  {
   "cell_type": "markdown",
   "id": "206fdf55",
   "metadata": {},
   "source": [
    "**<font color=#196F3D>Observations**\n",
    "- **merged_df** dataset, holds features for all the 3 Datasets\n",
    "- It is of **Shape (14116,17)**    \n",
    "- department_id, department_name and dept_head has equal number of missing values.\n",
    "- The 4 features of the above dataset department, department_id, department_name and dept_head are of categorical type hholds the same context for our Analysis. *3 of these features* will be **removed**\n",
    "- **Missing Values in Features**\n",
    "- Satisfaction       |   150 missing values\n",
    "- Tenure             |   150 missing values\n",
    "- department         |   706 missing values\n",
    "- last_evaluation    |  1487 missing values\n",
    "- filed_complaint    |  12075 missing values\n",
    "- recently_promoted  |  13819 missing values\n",
    "\n",
    "    "
   ]
  },
  {
   "cell_type": "markdown",
   "id": "e4aab77c",
   "metadata": {},
   "source": [
    "- Dropping department id, department name and department head"
   ]
  },
  {
   "cell_type": "code",
   "execution_count": 38,
   "id": "1e805ef1",
   "metadata": {},
   "outputs": [],
   "source": [
    "merged_df.drop(columns=['dept_id','dept_name','dept_head'] , axis=1, inplace=True)"
   ]
  },
  {
   "cell_type": "markdown",
   "id": "4a904391",
   "metadata": {},
   "source": [
    "#### Verifying Number of features in the Final Dataset"
   ]
  },
  {
   "cell_type": "code",
   "execution_count": 39,
   "id": "0bd28e8e",
   "metadata": {},
   "outputs": [
    {
     "data": {
      "text/plain": [
       "(14116, 14)"
      ]
     },
     "execution_count": 39,
     "metadata": {},
     "output_type": "execute_result"
    }
   ],
   "source": [
    "merged_df.shape"
   ]
  },
  {
   "cell_type": "markdown",
   "id": "e5b3cc38",
   "metadata": {},
   "source": [
    "<a name = Section54></a>\n",
    "### **5.4 Saving the Final Dataset to a CSV file**\n"
   ]
  },
  {
   "cell_type": "code",
   "execution_count": 40,
   "id": "92eb3e76",
   "metadata": {},
   "outputs": [],
   "source": [
    "merged_df.to_csv('emp_merged.csv', index=False)"
   ]
  }
 ],
 "metadata": {
  "kernelspec": {
   "display_name": "Python 3 (ipykernel)",
   "language": "python",
   "name": "python3"
  },
  "language_info": {
   "codemirror_mode": {
    "name": "ipython",
    "version": 3
   },
   "file_extension": ".py",
   "mimetype": "text/x-python",
   "name": "python",
   "nbconvert_exporter": "python",
   "pygments_lexer": "ipython3",
   "version": "3.9.13"
  }
 },
 "nbformat": 4,
 "nbformat_minor": 5
}
